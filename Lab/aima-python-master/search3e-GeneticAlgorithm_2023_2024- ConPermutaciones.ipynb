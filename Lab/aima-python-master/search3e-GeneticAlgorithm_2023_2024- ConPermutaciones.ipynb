{
 "cells": [
  {
   "attachments": {},
   "cell_type": "markdown",
   "metadata": {
    "collapsed": true
   },
   "source": [
    "# Solving problems by Searching\n",
    "\n",
    "This notebook serves as supporting material for topics covered in **Chapter 3 - Solving Problems by Searching** and **Chapter 4 - Beyond Classical Search** from the book *Artificial Intelligence: A Modern Approach.* This notebook uses implementations from [search.py](https://github.com/aimacode/aima-python/blob/master/search.py) module. Let's start by importing everything from search module."
   ]
  },
  {
   "cell_type": "code",
   "execution_count": null,
   "metadata": {},
   "outputs": [],
   "source": [
    "\n",
    "import random\n",
    "import bisect\n",
    "# Needed to hide warnings in the matplotlib sections\n",
    "import warnings\n",
    "import math\n",
    "import statistics\n",
    "# from numpy import *\n",
    "warnings.filterwarnings(\"ignore\")"
   ]
  },
  {
   "attachments": {},
   "cell_type": "markdown",
   "metadata": {},
   "source": [
    "For visualisations, we use networkx and matplotlib to show the map in the notebook and we use ipywidgets to interact with the map to see how the searching algorithm works. These are imported as required in `notebook.py`."
   ]
  },
  {
   "attachments": {},
   "cell_type": "markdown",
   "metadata": {},
   "source": [
    "## CONTENTS\n",
    "\n",
    "* Genetic Algorithm\n"
   ]
  },
  {
   "attachments": {},
   "cell_type": "markdown",
   "metadata": {},
   "source": [
    "## GENETIC ALGORITHM\n",
    "\n",
    "Genetic algorithms (or GA) are inspired by natural evolution and are particularly useful in optimization and search problems with large state spaces.\n",
    "\n",
    "Given a problem, algorithms in the domain make use of a *population* of solutions (also called *states*), where each solution/state represents a feasible solution. At each iteration (often called *generation*), the population gets updated using methods inspired by biology and evolution, like *crossover*, *mutation* and *natural selection*."
   ]
  },
  {
   "attachments": {},
   "cell_type": "markdown",
   "metadata": {},
   "source": [
    "PERMUTATION ENCODING\n",
    "\n",
    "GA Parameters:\n",
    "We now need to define the maximum size of each population. Larger populations have more variation but are computationally more  expensive to run algorithms on.\n",
    "As our population is not very large, we can afford to keep a relatively large mutation rate.\n",
    "Termination after a predefined number of generations.\n",
    "N is the size of the chromosmes, and [0,..,N-1] is the alphabet"
   ]
  },
  {
   "attachments": {},
   "cell_type": "markdown",
   "metadata": {},
   "source": [
    "Great! Now, we need to define the most important metric for the genetic algorithm, i.e the fitness function. This will simply return the number of matching characters between the generated sample and the target phrase."
   ]
  },
  {
   "cell_type": "code",
   "execution_count": null,
   "metadata": {
    "collapsed": true
   },
   "outputs": [],
   "source": [
    "def fitness_fn(sample):\n",
    "    return fitness_v2(sample)\n",
    "    \n",
    "# target\n",
    "def fitness_v1(sample):\n",
    "    # initialize fitness to 0\n",
    "    fitness = 0\n",
    "    for i in range(len(sample)):\n",
    "        # increment fitness by 1 for every matching character\n",
    "        if sample[i] == target[i]:\n",
    "           fitness += 1\n",
    "    return fitness\n",
    "\n",
    "def cost(sample):\n",
    "    # Asegura que el cromosoma forme un circuito completo (ciudad 0 al principio y al final)\n",
    "    chromosome_with_start_city = [0] + sample + [0]\n",
    "    \n",
    "    # Calcula la distancia total recorrida por el cromosoma\n",
    "    total_distance = 0\n",
    "    for i in range(len(chromosome_with_start_city) - 1):\n",
    "        # Obtiene el índice de las ciudades en el grafo\n",
    "        city1 = chromosome_with_start_city[i]\n",
    "        city2 = chromosome_with_start_city[i + 1]\n",
    "        # Suma la distancia entre la ciudad 1 y la ciudad 2\n",
    "        total_distance += grafo.Dist[city1][city2]\n",
    "    # La distancia total (queremos minimizar la distancia)\n",
    "    return total_distance\n",
    "\n",
    "def fitness_v2(sample):\n",
    "    # El fitness es el inverso de la distancia total (queremos minimizar la distancia)\n",
    "    fitness = 3 ** ( 10000 / cost(sample) )\n",
    "    return fitness"
   ]
  },
  {
   "attachments": {},
   "cell_type": "markdown",
   "metadata": {
    "collapsed": true
   },
   "source": [
    "To generate `ngen` number of generations, we run a `for` loop `ngen` number of times. After each generation, we calculate the fitness of the best individual of the generation and compare it to the value of `f_thres` using the `fitness_threshold` function. After every generation, we print out the best individual of the generation and the corresponding fitness value. Lets now write a function to do this."
   ]
  },
  {
   "cell_type": "code",
   "execution_count": null,
   "metadata": {
    "collapsed": true
   },
   "outputs": [],
   "source": [
    "def genetic_algorithm_stepwise(population, fitness_fn, gene_pool, ngen=1200, pmut=0.05):\n",
    "    for generation in range(int(ngen)):\n",
    "        # Elitism may be here - ADDED\n",
    "        previous_best = max(population, key=fitness_fn)\n",
    "        population = [mutate(order_crossover(*select(2, population, fitness_fn)), pmut) for i in range(len(population)-1)]\n",
    "        population.append(previous_best)\n",
    "        # stores the individual genome with the highest fitness in the current population\n",
    "        current_best = max(population, key=fitness_fn)\n",
    "        fitnesses = list(map(fitness_fn, population))\n",
    "        print(f'Current best: {current_best}\\tGeneration: {generation:04d}   BestFitness: {max(fitnesses):10f}\\tAverageFitness: {statistics.mean(fitnesses):10f}\\tStDev: {statistics.stdev(fitnesses):10f}\\r')\n",
    "        \n",
    "    return max(population, key=fitness_fn)       \n",
    "\n",
    "def init_population(pop_number, gene_pool):\n",
    "    # a chromosome is a random permutation of the alphabet\n",
    "    population = []\n",
    "    for _ in range(pop_number):\n",
    "        # Shuffle the gene pool and take the first pool_size elements as an individual\n",
    "        v = gene_pool[:]\n",
    "        random.shuffle(v)\n",
    "        population.append(v)\n",
    "    return population\n",
    "\n",
    "def select(r, population, fitness_fn):\n",
    "    fitnesses = map(fitness_fn, population)\n",
    "    #scaling here\n",
    "    sampler = weighted_sampler(population, fitnesses)\n",
    "    ret = [sampler() for i in range(r)]\n",
    "    return ret\n",
    "\n",
    "def weighted_sampler(seq, weights):\n",
    "    \"\"\"Return a random-sample function that picks from seq weighted by weights.\"\"\"\n",
    "    totals = []\n",
    "    for w in weights:\n",
    "        totals.append(w + totals[-1] if totals else w)\n",
    "    return lambda: seq[bisect.bisect(totals, random.uniform(0, totals[-1]))]\n",
    "    # bisect(a,x) -> insertion position of a in a sorted list x - AL REVES\n",
    "\n",
    "def uniform_crossover(x, y):\n",
    "    # x, y permutations of the alphabet\n",
    "    n = 0\n",
    "    child = [-1] * (N-1)\n",
    "    indexes = [0] * (N-1)\n",
    "    # de x se copian los valores de las posiciones con indexex[i] == 1 en las mismas posiciones en child\n",
    "    for i in  range((N-1)):\n",
    "        indexes[i] = random.randint(0,1) \n",
    "        if indexes[i] == 1:\n",
    "            child[i] = x[i]\n",
    "            n += 1\n",
    "    # El resto (N-n) se copia de y en su orden relativo, desde el principio\n",
    "    i = 0 # indice en y\n",
    "    k = 0 # indice en child\n",
    "    for t in range(N-n):\n",
    "        while y[i] in child[:]:\n",
    "            i += 1\n",
    "        while child[k] != -1:\n",
    "            k += 1\n",
    "        child[k] = y[i]\n",
    "        i += 1   \n",
    "    return child\n",
    "\n",
    "def order_crossover(x, y): # OX\n",
    "    # TODO implementar cruce en dos puntos\n",
    "    ycop = y.copy()\n",
    "    \n",
    "    p1 = random.randrange(0, N-1)\n",
    "    p2 = random.randrange(0, N-1)\n",
    "    while p2 == p1:\n",
    "        p2 = random.randrange(0, N-1)\n",
    "    \n",
    "    child = [-1] * (N-1)\n",
    "    \n",
    "    i = p1\n",
    "    while i != p2:\n",
    "        child[i] = x[i]\n",
    "        if x[i] in ycop:\n",
    "            ycop.remove(x[i])\n",
    "        i = ( i + 1 ) % (N-1)\n",
    "    \n",
    "    counter = 0\n",
    "    while i != p1:\n",
    "        child[i] = ycop[counter]\n",
    "        counter += 1\n",
    "        i = ( i + 1 ) % (N-1)\n",
    "    \n",
    "    return child\n",
    "\n",
    "def mutate(x, pmut):\n",
    "    # if random.uniform(0, 1) > 0.5:\n",
    "    #     return random_mutate(x, pmut)\n",
    "    return adyacency_mutate(x, pmut)\n",
    "\n",
    "# Random mutation\n",
    "def random_mutate(x, pmut):\n",
    "    if random.uniform(0, 1) >= pmut:\n",
    "        return x\n",
    "    i, j = random.sample(range(int(N)-1), 2)\n",
    "    x[i], x[j] = x[j], x[i]\n",
    "    return x\n",
    "\n",
    "# DONE Mutation method that exchanges two contiguous genes\n",
    "def adyacency_mutate(x, pmut):\n",
    "    if random.uniform(0, 1) >= pmut:\n",
    "        return x\n",
    "    i = random.randrange(0, N-1)\n",
    "    j = (i + 1) % (N-1) \n",
    "    x[i], x[j] = x[j], x[i]\n",
    "    return x\n"
   ]
  },
  {
   "attachments": {},
   "cell_type": "markdown",
   "metadata": {},
   "source": []
  },
  {
   "attachments": {},
   "cell_type": "markdown",
   "metadata": {},
   "source": [
    "The function defined above is essentially the same as the one defined in `search.py` with the added functionality of printing out the data of each generation."
   ]
  },
  {
   "cell_type": "code",
   "execution_count": null,
   "metadata": {},
   "outputs": [],
   "source": [
    "class Grafo:\n",
    "    \"\"\"Un Grafo es un array bidimensional de tamño N*N, siendo N el número de ciudades,\n",
    "    representadas por los valores 0,...,N-1; 0 se toma como ciudad de partida.\n",
    "    El valor de la posición (i,j) es la distancia entre las ciudades i y j,\n",
    "     que es el mismo que la distancia entre j e i \"\"\"\n",
    "    def __init__(self,lista):\n",
    "        \"N es el número de ciudades correspondiente a la lista de valores de una instancia en la sintaxis EDGE_WEIGHT_TYPE\"\n",
    "        self.N = int(((8*len(lista)+1)**0.5)-1)/2 # NUMERO DE CIUDADES, 0 ES LA CIUDAD DE PARTIDA\n",
    "        #print(\"Número de ciudades: \",self.N)\n",
    "        self.ciudades = list(range(int(self.N)))\n",
    "        #print(\"Ciudades: \", self.ciudades)\n",
    "        self.Dist = [[0]*int(self.N) for i in self.ciudades]\n",
    "        #print(\"Matriz de costes (Dist) ANTES:\")\n",
    "        #self.printDist(self.Dist, self.N)\n",
    "        x_acc = 0\n",
    "        for x in range(int(self.N)):\n",
    "            x_acc += x\n",
    "            for y in range(x+1):\n",
    "                self.Dist[x][y] = self.Dist[y][x] = lista[x_acc+y] # EL VALOR DE LA POSICION (X,Y) ES LA DISTANCIA ENTRE LAS CIUDADES X E Y\n",
    "        #print(\"Matriz de costes (Dist) DESPUES:\")\n",
    "        #self.printDist(self.Dist, self.N)\n",
    "\n",
    "    def printDist(self, dist, N):\n",
    "        for i in range(int(N)):\n",
    "            print(\"[\", end=\"\")\n",
    "            for j in range(int(N)):\n",
    "                print(dist[i][j], end=\" \")\n",
    "            print(\"]\", end=\"\")\n",
    "            print()"
   ]
  },
  {
   "attachments": {},
   "cell_type": "markdown",
   "metadata": {},
   "source": [
    "We have defined all the required functions and variables. Let's now create a new population and test the function we wrote above."
   ]
  },
  {
   "cell_type": "code",
   "execution_count": null,
   "metadata": {},
   "outputs": [],
   "source": [
    "gr17 = [\n",
    "    0, \n",
    "    633, 0, \n",
    "    257, 390, 0, \n",
    "    91, 661, 228, 0, \n",
    "    412, 227, 169, 383, 0, \n",
    "    150, 488, 112, 120, 267, 0, \n",
    "    80, 572, 196, 77, 351, 63, 0, \n",
    "    134, 530, 154, 105, 309, 34, 29, 0, \n",
    "    259, 555, 372, 175, 338, 264, 232, 249, 0, \n",
    "    505, 289, 262, 476, 196, 360, 444, 402, 495, 0, \n",
    "    353, 282, 110, 324, 61, 208, 292, 250, 352, 154, 0, \n",
    "    324, 638, 437, 240, 421, 329, 297, 314, 95, 578, 435, 0, \n",
    "    70, 567, 191, 27, 346, 83, 47, 68, 189, 439, 287, 254, 0, \n",
    "    211, 466, 74, 182, 243, 105, 150, 108, 326, 336, 184, 391, 145, 0, \n",
    "    268, 420, 53, 239, 199, 123, 207, 165, 383, 240, 140, 448, 202, 57, 0, \n",
    "    246, 745, 472, 237, 528, 364, 332, 349, 202, 685, 542, 157, 289, 426, 483, 0, \n",
    "    121, 518, 142, 84, 297, 35, 29, 36, 236, 390, 238, 301, 55, 96, 153, 336, 0\n",
    "]\n",
    "\n",
    "# creamos el grafo\n",
    "# no se permite el gene 0 (han de ser de 1 a N-1)\n",
    "grafo = Grafo(gr17)\n",
    "\n",
    "# max_population = 100\n",
    "max_population = 200\n",
    "mutation_rate = 0.1 # 10% of the chromosones are mutated\n",
    "ngen = 200 # maximum number of generations\n",
    "\n",
    "N = int(grafo.N) # chromosome size\n",
    "gene_pool = list(range(1, N)) # alphabet\n",
    "target = [15, 11, 8, 4, 1, 9, 10, 2, 14, 13, 16, 5, 7, 6, 12, 3] # used for basic fitness function\n",
    "print(gene_pool)\n",
    "print(target)"
   ]
  },
  {
   "cell_type": "code",
   "execution_count": null,
   "metadata": {},
   "outputs": [],
   "source": [
    "population = init_population(max_population, gene_pool)\n",
    "# print(population)\n",
    "# random.seed(10) # set seed to debug\n",
    "solution = genetic_algorithm_stepwise(population, fitness_fn, gene_pool, ngen, mutation_rate)\n",
    "print(\"Target: \")\n",
    "print(target)\n",
    "print(\"Solution: \")\n",
    "print(solution)\n",
    "print(\"Fitness: \")\n",
    "print(fitness_fn(solution))\n",
    "print(\"Cost: \")\n",
    "print(cost(solution))"
   ]
  },
  {
   "attachments": {},
   "cell_type": "markdown",
   "metadata": {},
   "source": [
    "## Lo que hay que incluir en el documento\n",
    "- Avg. Tardiness (fitness) vs time (minutes/generations) - Indica la convergencia del algoritmo genético\n",
    "    - Para una única ejecución\n",
    "        - Debe incluir el mejor individuo de cada generación\n",
    "        - Y el AVG fitness de la generación\n",
    "    - Para conclusiones, necesitas n > 30 ejecuciones\n",
    "        - Promedio de mejores individuos\n",
    "        - Promedio de promedios\n",
    "        \n",
    "    - Comparar UX con OX\n",
    "    - No sirve mucho comparar tamaño de generacion u otros tipos de elitismo\n",
    "    - Añadir info añadida: grafo (gr17), población (N)...\n",
    "    - Obligatorio: Hacer otra gráfica similar para gr21: también con UX e OX\n",
    "        - Plus: añadir esto para una instancia similar, como **Burma52** o similar\n",
    "    \n",
    "    Cuando comparas con A*, que sabemos el coste óptimo\n",
    "        Así, puedes utilizar la gráfica para saber cuánto puedes tardar en sacar el óptimo en A* vs genético\n",
    "\n",
    "- Título: Que sea informativo y hable del TSP, no sólo \"práctica\"\n",
    "- Palabras clave: no poner más de lo que hay\n",
    "- 4- Aplicación:\n",
    "    - Dos secciones, uno A* y otro genéticos\n",
    "    - Explicar muy bien el espacio de b´suqueda\n",
    "    - Explicar los heurísticos, **especialmente el h3**\n",
    "- 5- Estudio experimental:\n",
    "    - **Lo más valorado**\n",
    "    - La organización de subsecciones es más libre, especialmente dentro de los resultados experimentales\n",
    "    - En la seccion de diseño\n",
    "        - Hablar de que instancias, y qué número de ejecuciones\n",
    "        - Y de otras variables importantes como ratio de mutación\n",
    "    - En resultados\n",
    "        - Es importante comparar tanto lo informados que están los heurísticos como el tiempo que tardan de forma práctica\n",
    "        - Notar qué heurístico es el mejor, (depende del número de instancias?)\n",
    "        - Hacer comparación de A* con PEA* (Weighted A* / epsillon A*)\n",
    "            - Menos nodos expandidos, pero peor solución\n",
    "            - Comprobar que el coste no supera (1+e)C*\n",
    "            - En todas las instancias (una tabla)\n",
    "        - Algoritmos genéticos\n",
    "            - Convergencia (leer arriba)\n",
    "            - Probar otro escalado del fitness\n",
    "            - U otras mutaciones\n",
    "        - Conclusión con comparativa entre genéticos y A*\n",
    "- Conclusión:\n",
    "    - qué algoritmo es el mejor para qué casos de uso\n",
    "        - En casod de ser A*, qué heurístico y por qué\n",
    "        - En caso de ser genético, qué cruce/mutación y por qué\n",
    "    \n",
    "\n",
    "Hay que tener un Excel con los datos de los experimentos publicados\n",
    "\n",
    "Usar numpy para generar las data tables"
   ]
  },
  {
   "attachments": {},
   "cell_type": "markdown",
   "metadata": {},
   "source": [
    "The genetic algorithm was able to converge!\n",
    "We implore you to rerun the above cell and play around with `target, max_population, f_thres, ngen` etc parameters to get a better intuition of how the algorithm works. To summarize, if we can define the problem states in simple array format and if we can create a fitness function to gauge how good or bad our approximate solutions are, there is a high chance that we can get a satisfactory solution using a genetic algorithm. \n",
    "- There is also a better GUI version of this program `genetic_algorithm_example.py` in the GUI folder for you to play around with."
   ]
  },
  {
   "attachments": {},
   "cell_type": "markdown",
   "metadata": {},
   "source": [
    "#### Eight Queens\n",
    "\n",
    "Let's take a look at a more complicated problem.\n",
    "\n",
    "In the *Eight Queens* problem, we are tasked with placing eight queens on an 8x8 chessboard without any queen threatening the others (aka queens should not be in the same row, column or diagonal). In its general form the problem is defined as placing *N* queens in an NxN chessboard without any conflicts.\n",
    "\n",
    "First we need to think about the representation of each solution. We can go the naive route of representing the whole chessboard with the queens' placements on it. That is definitely one way to go about it, but for the purpose of this tutorial we will do something different. We have eight queens, so we will have a gene for each of them. The gene pool will be numbers from 0 to 7, for the different columns. The *position* of the gene in the state will denote the row the particular queen is placed in.\n",
    "\n",
    "For example, we can have the state \"03304577\". Here the first gene with a value of 0 means \"the queen at row 0 is placed at column 0\", for the second gene \"the queen at row 1 is placed at column 3\" and so forth.\n",
    "\n",
    "We now need to think about the fitness function. On the graph coloring problem we counted the valid edges. The same thought process can be applied here. Instead of edges though, we have positioning between queens. If two queens are not threatening each other, we say they are at a \"non-attacking\" positioning. We can, therefore, count how many such positionings are there.\n",
    "\n",
    "Let's dive right in and initialize our population:"
   ]
  },
  {
   "cell_type": "code",
   "execution_count": null,
   "metadata": {},
   "outputs": [],
   "source": [
    "population = init_population(100, gene_pool)\n",
    "print(population[:5])"
   ]
  },
  {
   "attachments": {},
   "cell_type": "markdown",
   "metadata": {},
   "source": [
    "We have a population of 100 and each individual has 8 genes. The gene pool is the integers from 0 to 7, in string form. Above you can see the first five individuals.\n",
    "\n",
    "Next we need to write our fitness function. Remember, queens threaten each other if they are at the same row, column or diagonal.\n",
    "\n",
    "Since positionings are mutual, we must take care not to count them twice. Therefore for each queen, we will only check for conflicts for the queens after her.\n",
    "\n",
    "A gene's value in an individual `q` denotes the queen's column, and the position of the gene denotes its row. We can check if the aforementioned values between two genes are the same. We also need to check for diagonals. A queen *a* is in the diagonal of another queen, *b*, if the difference of the rows between them is equal to either their difference in columns (for the diagonal on the right of *a*) or equal to the negative difference of their columns (for the left diagonal of *a*). Below is given the fitness function."
   ]
  },
  {
   "cell_type": "code",
   "execution_count": null,
   "metadata": {
    "collapsed": true
   },
   "outputs": [],
   "source": [
    "def fitness(q):\n",
    "    non_attacking = 0\n",
    "    for row1 in range(len(q)):\n",
    "        for row2 in range(row1+1, len(q)):\n",
    "            col1 = int(q[row1])\n",
    "            col2 = int(q[row2])\n",
    "            row_diff = row1 - row2\n",
    "            col_diff = col1 - col2\n",
    "\n",
    "            if col1 != col2 and row_diff != col_diff and row_diff != -col_diff:\n",
    "                non_attacking += 1\n",
    "\n",
    "    return non_attacking"
   ]
  },
  {
   "attachments": {},
   "cell_type": "markdown",
   "metadata": {},
   "source": [
    "Note that the best score achievable is 28. That is because for each queen we only check for the queens after her. For the first queen we check 7 other queens, for the second queen 6 others and so on. In short, the number of checks we make is the sum 7+6+5+...+1. Which is equal to 7\\*(7+1)/2 = 28.\n",
    "\n",
    "Because it is very hard and will take long to find a perfect solution, we will set the fitness threshold at 25. If we find an individual with a score greater or equal to that, we will halt. Let's see how the genetic algorithm will fare."
   ]
  },
  {
   "cell_type": "code",
   "execution_count": null,
   "metadata": {},
   "outputs": [],
   "source": [
    "solution = genetic_algorithm_stepwise(population, fitness, gene_pool, ngen=100)\n",
    "print(solution)\n",
    "#print(fitness(solution))"
   ]
  },
  {
   "attachments": {},
   "cell_type": "markdown",
   "metadata": {},
   "source": [
    "Above you can see the solution and its fitness score, which should be no less than 25."
   ]
  },
  {
   "attachments": {},
   "cell_type": "markdown",
   "metadata": {},
   "source": [
    "This is where we conclude Genetic Algorithms."
   ]
  },
  {
   "attachments": {},
   "cell_type": "markdown",
   "metadata": {},
   "source": [
    "<br>\n",
    "This concludes the notebook.\n",
    "Hope you learned something new!"
   ]
  }
 ],
 "metadata": {
  "kernelspec": {
   "display_name": "Python 3 (ipykernel)",
   "language": "python",
   "name": "python3"
  },
  "language_info": {
   "codemirror_mode": {
    "name": "ipython",
    "version": 3
   },
   "file_extension": ".py",
   "mimetype": "text/x-python",
   "name": "python",
   "nbconvert_exporter": "python",
   "pygments_lexer": "ipython3",
   "version": "3.10.6"
  },
  "pycharm": {
   "stem_cell": {
    "cell_type": "raw",
    "metadata": {
     "collapsed": false
    },
    "source": []
   }
  },
  "widgets": {
   "state": {
    "1516e2501ddd4a2e8e3250bffc0164db": {
     "views": [
      {
       "cell_index": 59
      }
     ]
    },
    "17be64c89a9a4a43b3272cb018df0970": {
     "views": [
      {
       "cell_index": 59
      }
     ]
    },
    "ac05040009a340b0af81b0ee69161fbc": {
     "views": [
      {
       "cell_index": 59
      }
     ]
    },
    "d9735ffe77c24f13ae4ad3620ce84334": {
     "views": [
      {
       "cell_index": 59
      }
     ]
    }
   },
   "version": "1.2.0"
  }
 },
 "nbformat": 4,
 "nbformat_minor": 1
}
