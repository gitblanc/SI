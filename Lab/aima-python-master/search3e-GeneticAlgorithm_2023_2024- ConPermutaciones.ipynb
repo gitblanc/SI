{
 "cells": [
  {
   "attachments": {},
   "cell_type": "markdown",
   "metadata": {
    "collapsed": true
   },
   "source": [
    "# Solving problems by Searching\n",
    "\n",
    "This notebook serves as supporting material for topics covered in **Chapter 3 - Solving Problems by Searching** and **Chapter 4 - Beyond Classical Search** from the book *Artificial Intelligence: A Modern Approach.* This notebook uses implementations from [search.py](https://github.com/aimacode/aima-python/blob/master/search.py) module. Let's start by importing everything from search module."
   ]
  },
  {
   "cell_type": "code",
   "execution_count": 98,
   "metadata": {},
   "outputs": [],
   "source": [
    "\n",
    "import random\n",
    "import bisect\n",
    "# Needed to hide warnings in the matplotlib sections\n",
    "import warnings\n",
    "#from numpy import *\n",
    "warnings.filterwarnings(\"ignore\")"
   ]
  },
  {
   "attachments": {},
   "cell_type": "markdown",
   "metadata": {},
   "source": [
    "For visualisations, we use networkx and matplotlib to show the map in the notebook and we use ipywidgets to interact with the map to see how the searching algorithm works. These are imported as required in `notebook.py`."
   ]
  },
  {
   "attachments": {},
   "cell_type": "markdown",
   "metadata": {},
   "source": [
    "## CONTENTS\n",
    "\n",
    "* Genetic Algorithm\n"
   ]
  },
  {
   "attachments": {},
   "cell_type": "markdown",
   "metadata": {},
   "source": [
    "## GENETIC ALGORITHM\n",
    "\n",
    "Genetic algorithms (or GA) are inspired by natural evolution and are particularly useful in optimization and search problems with large state spaces.\n",
    "\n",
    "Given a problem, algorithms in the domain make use of a *population* of solutions (also called *states*), where each solution/state represents a feasible solution. At each iteration (often called *generation*), the population gets updated using methods inspired by biology and evolution, like *crossover*, *mutation* and *natural selection*."
   ]
  },
  {
   "attachments": {},
   "cell_type": "markdown",
   "metadata": {},
   "source": [
    "PERMUTATION ENCODING\n",
    "\n",
    "GA Parameters:\n",
    "We now need to define the maximum size of each population. Larger populations have more variation but are computationally more  expensive to run algorithms on.\n",
    "As our population is not very large, we can afford to keep a relatively large mutation rate.\n",
    "Termination after a predefined number of generations.\n",
    "N is the size of the chromosmes, and [0,..,N-1] is the alphabet"
   ]
  },
  {
   "cell_type": "code",
   "execution_count": 99,
   "metadata": {
    "collapsed": true
   },
   "outputs": [
    {
     "name": "stdout",
     "output_type": "stream",
     "text": [
      "[1, 2, 3, 4, 5, 6, 7, 8, 9, 10, 11, 12, 13, 14, 15, 16]\n"
     ]
    }
   ],
   "source": [
    "class Grafo:\n",
    "    \"\"\"Un Grafo es un array bidimensional de tamño N*N, siendo N el número de ciudades,\n",
    "    representadas por los valores 0,...,N-1; 0 se toma como ciudad de partida.\n",
    "    El valor de la posición (i,j) es la distancia entre las ciudades i y j,\n",
    "     que es el mismo que la distancia entre j e i \"\"\"\n",
    "    def __init__(self,lista):\n",
    "        \"N es el número de ciudades correspondiente a la lista de valores de una instancia en la sintaxis EDGE_WEIGHT_TYPE\"\n",
    "        self.N = int(((8*len(lista)+1)**0.5)-1)/2 # NUMERO DE CIUDADES, 0 ES LA CIUDAD DE PARTIDA\n",
    "        #print(\"Número de ciudades: \",self.N)\n",
    "        self.ciudades = list(range(int(self.N)))\n",
    "        #print(\"Ciudades: \", self.ciudades)\n",
    "        self.Dist = [[0]*int(self.N) for i in self.ciudades]\n",
    "        #print(\"Matriz de costes (Dist) ANTES:\")\n",
    "        #self.printDist(self.Dist, self.N)\n",
    "        x_acc = 0\n",
    "        for x in range(int(self.N)):\n",
    "            x_acc += x\n",
    "            for y in range(x+1):\n",
    "                self.Dist[x][y] = self.Dist[y][x] = lista[x_acc+y] # EL VALOR DE LA POSICION (X,Y) ES LA DISTANCIA ENTRE LAS CIUDADES X E Y\n",
    "        #print(\"Matriz de costes (Dist) DESPUES:\")\n",
    "        #self.printDist(self.Dist, self.N)\n",
    "\n",
    "    def printDist(self, dist, N):\n",
    "        for i in range(int(N)):\n",
    "            print(\"[\", end=\"\")\n",
    "            for j in range(int(N)):\n",
    "                print(dist[i][j], end=\" \")\n",
    "            print(\"]\", end=\"\")\n",
    "            print()\n",
    "\n",
    "gr17 = [\n",
    "    0, \n",
    "    633, 0, \n",
    "    257, 390, 0, \n",
    "    91, 661, 228, 0, \n",
    "    412, 227, 169, 383, 0, \n",
    "    150, 488, 112, 120, 267, 0, \n",
    "    80, 572, 196, 77, 351, 63, 0, \n",
    "    134, 530, 154, 105, 309, 34, 29, 0, \n",
    "    259, 555, 372, 175, 338, 264, 232, 249, 0, \n",
    "    505, 289, 262, 476, 196, 360, 444, 402, 495, 0, \n",
    "    353, 282, 110, 324, 61, 208, 292, 250, 352, 154, 0, \n",
    "    324, 638, 437, 240, 421, 329, 297, 314, 95, 578, 435, 0, \n",
    "    70, 567, 191, 27, 346, 83, 47, 68, 189, 439, 287, 254, 0, \n",
    "    211, 466, 74, 182, 243, 105, 150, 108, 326, 336, 184, 391, 145, 0, \n",
    "    268, 420, 53, 239, 199, 123, 207, 165, 383, 240, 140, 448, 202, 57, 0, \n",
    "    246, 745, 472, 237, 528, 364, 332, 349, 202, 685, 542, 157, 289, 426, 483, 0, \n",
    "    121, 518, 142, 84, 297, 35, 29, 36, 236, 390, 238, 301, 55, 96, 153, 336, 0\n",
    "]\n",
    "\n",
    "# creamos el grafo\n",
    "# no se permite el gene 0 (han de ser de 1 a N-1)\n",
    "grafo = Grafo(gr17)\n",
    "\n",
    "# max_population = 100\n",
    "max_population = 250\n",
    "mutation_rate = 0.07 # 7% of the chromosones are mutated\n",
    "# ngen = 1000 # maximum number of generations\n",
    "ngen = 2000\n",
    "# N = 8 # chromosome size\n",
    "N = int(grafo.N) # chromosome size\n",
    "gene_pool = list(range(N)) # alphabet\n",
    "gene_pool.remove(0) # para eliminar la ciudad 0\n",
    "print(gene_pool)"
   ]
  },
  {
   "attachments": {},
   "cell_type": "markdown",
   "metadata": {},
   "source": [
    "Great! Now, we need to define the most important metric for the genetic algorithm, i.e the fitness function. This will simply return the number of matching characters between the generated sample and the target phrase."
   ]
  },
  {
   "cell_type": "code",
   "execution_count": 100,
   "metadata": {
    "collapsed": true
   },
   "outputs": [],
   "source": [
    "# Este es para el TSP\n",
    "def fitness_fn(sample):\n",
    "    # Asegura que el cromosoma forme un circuito completo (ciudad 0 al principio y al final)\n",
    "    chromosome_with_start_city = [0] + sample\n",
    "    \n",
    "    # Calcula la distancia total recorrida por el cromosoma\n",
    "    total_distance = 0\n",
    "    for i in range(len(chromosome_with_start_city) - 1):\n",
    "        # Obtiene el índice de las ciudades en el grafo\n",
    "        city1 = chromosome_with_start_city[i]\n",
    "        city2 = chromosome_with_start_city[i + 1]\n",
    "        # Suma la distancia entre la ciudad 1 y la ciudad 2\n",
    "        total_distance += grafo.Dist[city1][city2]\n",
    "    # El fitness es el inverso de la distancia total (queremos minimizar la distancia)\n",
    "    fitness = 1 / total_distance\n",
    "    return fitness, total_distance\n",
    "\n",
    "# Este es para las N-reina\n",
    "# def fitness_fn(sample):\n",
    "#     # initialize fitness to 0\n",
    "#     fitness = 0\n",
    "#     for i in range(len(sample)):\n",
    "#         # increment fitness by 1 for every matching character\n",
    "#         if sample[i] == target[i]:\n",
    "#            fitness += 1\n",
    "#     return fitness\n",
    "# # target\n",
    "# target = [1, 2, 3, 4, 5, 6, 7, 8, 9, 10, 11, 12, 13, 14, 15, 16, 17, 18, 19, 20]"
   ]
  },
  {
   "attachments": {},
   "cell_type": "markdown",
   "metadata": {
    "collapsed": true
   },
   "source": [
    "To generate `ngen` number of generations, we run a `for` loop `ngen` number of times. After each generation, we calculate the fitness of the best individual of the generation and compare it to the value of `f_thres` using the `fitness_threshold` function. After every generation, we print out the best individual of the generation and the corresponding fitness value. Lets now write a function to do this."
   ]
  },
  {
   "cell_type": "code",
   "execution_count": 101,
   "metadata": {
    "collapsed": true
   },
   "outputs": [],
   "source": [
    "def genetic_algorithm_stepwise(population, fitness_fn, gene_pool, ngen=1200, pmut=0.1):\n",
    "    for generation in range(int(ngen)):\n",
    "        # Elitism may be here - ADDED\n",
    "        previous_best = max(population, key=fitness_fn)\n",
    "        population = [mutate2(uniform_crossover(*select(2, population, fitness_fn)), pmut) for i in range(len(population)-1)]\n",
    "        population.append(previous_best)\n",
    "        # stores the individual genome with the highest fitness in the current population\n",
    "        current_best, coste = max(population, key=fitness_fn)\n",
    "        #print(f'Current best: {current_best}\\t\\tGeneration: {str(generation)}\\t\\tFitness: {fitness_fn(current_best)}\\r', end='')\n",
    "        print(f'Current best: {current_best}\\t\\tGeneration: {str(generation)}\\t\\tFitness: {fitness_fn(current_best)}\\r')\n",
    "    return max(population, key=fitness_fn)       \n",
    "\n",
    "def init_population(pop_number, gene_pool):\n",
    "    # a chromosome is a random permutation of the alphabet\n",
    "    population = []\n",
    "    for _ in range(pop_number):\n",
    "        # Shuffle the gene pool and take the first pool_size elements as an individual\n",
    "        v = gene_pool[:]\n",
    "        random.shuffle(v)\n",
    "        population.append(v)\n",
    "    return population\n",
    "\n",
    "def select(r, population, fitness_fn):\n",
    "    fitnesses = map(fitness_fn, population)\n",
    "    #scaling here\n",
    "    sampler = weighted_sampler(population, fitnesses)\n",
    "    return [sampler() for i in range(r)]\n",
    "\n",
    "def weighted_sampler(seq, weights):\n",
    "    \"\"\"Return a random-sample function that picks from seq weighted by weights.\"\"\"\n",
    "    totals = []\n",
    "    for w in weights:\n",
    "        totals.append(w**0.5 + totals[-1]**0.5 if totals else w)\n",
    "    return lambda: seq[bisect.bisect(totals, random.uniform(0, totals[-1]))]\n",
    "    # bisect(a,x) -> insertion position of a in a sorted list x - AL REVES\n",
    "\n",
    "def uniform_crossover(x, y):\n",
    "    # x, y permutations of the alphabet\n",
    "    n = 0\n",
    "    child = [-1] * (int(N)-1)\n",
    "    indexes = [0] * (int(N)-1)\n",
    "    # de x se copian los valores de las posiciones con indexex[i] == 1 en las mismas posiciones en child\n",
    "    for i in  range((int(N)-1)):\n",
    "        indexes[i] = random.randint(0,1) \n",
    "        if indexes[i] == 1:\n",
    "            child[i] = x[i]\n",
    "            n += 1\n",
    "    # El resto (N-n) se copia de y en su orden relativo, desde el principio\n",
    "    i = 0 # indice en y\n",
    "    k = 0 # indice en child\n",
    "    for t in range((int(N)-1)-n):\n",
    "        while y[i] in child[:]:\n",
    "            i += 1\n",
    "        while child[k] != -1:\n",
    "            k += 1\n",
    "        child[k] = y[i]\n",
    "        i += 1   \n",
    "    return child\n",
    "\n",
    "def mutate2(x, pmut):\n",
    "    if random.uniform(0, 1) >= pmut:\n",
    "        return x\n",
    "    i, j = random.sample(range((int(N)-1)), 2)\n",
    "    x[i], x[j] = x[j], x[i]\n",
    "    return x"
   ]
  },
  {
   "cell_type": "markdown",
   "metadata": {},
   "source": []
  },
  {
   "attachments": {},
   "cell_type": "markdown",
   "metadata": {},
   "source": [
    "The function defined above is essentially the same as the one defined in `search.py` with the added functionality of printing out the data of each generation."
   ]
  },
  {
   "attachments": {},
   "cell_type": "markdown",
   "metadata": {},
   "source": [
    "We have defined all the required functions and variables. Let's now create a new population and test the function we wrote above."
   ]
  },
  {
   "cell_type": "code",
   "execution_count": 102,
   "metadata": {},
   "outputs": [
    {
     "name": "stdout",
     "output_type": "stream",
     "text": [
      "[[15, 9, 10, 3, 12, 5, 2, 4, 14, 11, 1, 8, 16, 6, 7, 13], [1, 10, 15, 5, 9, 3, 2, 6, 14, 8, 13, 7, 4, 16, 12, 11], [1, 2, 15, 14, 7, 10, 6, 3, 5, 4, 13, 11, 8, 12, 16, 9], [7, 8, 14, 15, 3, 5, 2, 11, 13, 6, 10, 9, 12, 16, 4, 1], [5, 7, 3, 6, 11, 8, 2, 15, 12, 10, 1, 13, 4, 16, 9, 14], [6, 7, 5, 2, 14, 1, 15, 16, 8, 9, 11, 4, 10, 13, 12, 3], [12, 2, 1, 7, 9, 6, 15, 11, 10, 14, 4, 16, 13, 5, 3, 8], [6, 9, 4, 13, 1, 12, 7, 8, 10, 14, 3, 15, 2, 5, 16, 11], [12, 5, 14, 9, 10, 11, 4, 15, 6, 2, 13, 7, 8, 1, 3, 16], [9, 4, 12, 14, 5, 2, 3, 13, 1, 15, 8, 11, 16, 6, 7, 10], [8, 9, 14, 11, 10, 15, 7, 6, 13, 4, 16, 2, 5, 1, 3, 12], [4, 10, 16, 11, 9, 7, 15, 3, 6, 12, 8, 14, 2, 1, 5, 13], [3, 10, 6, 12, 14, 2, 8, 11, 13, 15, 4, 5, 1, 7, 9, 16], [8, 2, 1, 6, 9, 13, 5, 15, 11, 4, 12, 7, 14, 10, 3, 16], [12, 9, 4, 14, 11, 5, 1, 7, 16, 6, 10, 3, 13, 15, 8, 2], [3, 13, 2, 4, 12, 11, 5, 9, 16, 15, 6, 7, 1, 14, 10, 8], [6, 3, 15, 14, 7, 13, 2, 5, 16, 9, 8, 10, 12, 4, 11, 1], [12, 15, 4, 13, 5, 16, 1, 8, 10, 9, 7, 3, 11, 14, 2, 6], [14, 10, 15, 6, 3, 11, 4, 12, 1, 5, 2, 7, 8, 13, 9, 16], [10, 16, 13, 7, 6, 5, 15, 9, 2, 12, 14, 3, 11, 1, 8, 4], [4, 15, 11, 12, 1, 16, 8, 14, 7, 3, 13, 6, 5, 9, 2, 10], [1, 14, 16, 10, 13, 6, 11, 8, 9, 12, 15, 7, 4, 2, 5, 3], [2, 13, 10, 7, 9, 1, 16, 5, 4, 11, 14, 6, 3, 15, 12, 8], [3, 2, 7, 11, 4, 15, 1, 13, 12, 10, 5, 8, 6, 16, 9, 14], [14, 6, 1, 11, 4, 16, 10, 8, 13, 2, 7, 3, 9, 15, 12, 5], [3, 12, 8, 11, 1, 6, 14, 13, 7, 10, 4, 2, 9, 16, 5, 15], [9, 11, 8, 13, 14, 16, 3, 7, 2, 10, 1, 15, 12, 4, 5, 6], [14, 7, 12, 15, 4, 2, 1, 3, 5, 9, 11, 13, 8, 10, 6, 16], [11, 5, 3, 13, 15, 6, 14, 1, 7, 8, 12, 9, 10, 2, 4, 16], [14, 11, 15, 13, 2, 5, 8, 1, 16, 9, 10, 12, 3, 4, 6, 7], [10, 11, 9, 16, 12, 13, 1, 4, 7, 8, 14, 5, 6, 3, 15, 2], [14, 15, 16, 5, 10, 9, 4, 13, 12, 7, 8, 6, 2, 3, 11, 1], [13, 16, 10, 4, 1, 8, 5, 9, 11, 12, 14, 7, 3, 15, 2, 6], [13, 4, 7, 8, 14, 15, 2, 6, 10, 5, 1, 3, 9, 12, 11, 16], [1, 14, 8, 10, 6, 2, 5, 4, 13, 12, 9, 15, 7, 11, 16, 3], [6, 2, 16, 13, 5, 14, 10, 3, 9, 8, 7, 11, 15, 1, 12, 4], [9, 5, 7, 14, 16, 3, 2, 11, 12, 6, 4, 15, 1, 13, 8, 10], [12, 5, 3, 4, 13, 6, 8, 9, 2, 11, 7, 14, 15, 1, 10, 16], [14, 10, 16, 3, 7, 13, 6, 5, 11, 12, 8, 1, 2, 4, 15, 9], [13, 14, 1, 7, 5, 4, 12, 11, 2, 9, 15, 3, 8, 16, 6, 10], [7, 2, 6, 16, 13, 3, 15, 11, 14, 12, 10, 5, 1, 4, 8, 9], [6, 7, 15, 3, 12, 4, 16, 5, 9, 10, 13, 14, 8, 11, 1, 2], [1, 10, 6, 9, 4, 13, 12, 14, 5, 8, 11, 3, 7, 2, 16, 15], [11, 7, 10, 12, 3, 4, 13, 6, 16, 14, 9, 5, 15, 1, 8, 2], [3, 6, 4, 12, 16, 8, 13, 2, 15, 7, 1, 10, 9, 5, 11, 14], [1, 8, 4, 7, 11, 15, 2, 9, 3, 14, 16, 12, 6, 5, 10, 13], [11, 16, 5, 10, 2, 13, 1, 6, 12, 14, 9, 4, 3, 8, 7, 15], [9, 1, 11, 6, 16, 15, 5, 8, 2, 4, 13, 14, 10, 3, 12, 7], [5, 2, 3, 10, 4, 11, 1, 14, 15, 16, 8, 6, 12, 7, 13, 9], [2, 15, 7, 12, 11, 14, 3, 1, 16, 6, 4, 10, 5, 8, 13, 9], [1, 6, 14, 8, 5, 11, 12, 10, 4, 9, 16, 7, 3, 15, 13, 2], [11, 5, 7, 14, 9, 3, 2, 10, 4, 8, 16, 1, 12, 13, 15, 6], [14, 5, 10, 3, 13, 6, 4, 9, 12, 11, 2, 1, 8, 16, 7, 15], [5, 12, 6, 16, 1, 2, 8, 15, 11, 14, 10, 7, 4, 3, 13, 9], [5, 16, 13, 14, 7, 10, 8, 9, 12, 15, 6, 11, 4, 1, 2, 3], [4, 8, 3, 10, 14, 9, 12, 15, 5, 7, 2, 11, 13, 16, 6, 1], [10, 1, 8, 13, 5, 9, 7, 12, 15, 14, 2, 11, 16, 3, 6, 4], [1, 11, 8, 15, 12, 16, 13, 2, 9, 4, 7, 6, 10, 14, 3, 5], [14, 9, 1, 10, 3, 8, 16, 4, 12, 5, 15, 6, 11, 2, 7, 13], [15, 14, 13, 5, 9, 10, 6, 1, 12, 11, 8, 7, 16, 2, 4, 3], [1, 14, 8, 11, 7, 12, 9, 4, 15, 13, 10, 5, 2, 3, 6, 16], [9, 14, 11, 2, 16, 10, 7, 12, 15, 6, 1, 5, 4, 3, 8, 13], [12, 6, 15, 11, 16, 9, 3, 7, 8, 10, 13, 14, 1, 5, 4, 2], [12, 6, 16, 5, 11, 2, 9, 4, 15, 7, 10, 1, 8, 3, 13, 14], [6, 5, 8, 1, 15, 3, 13, 14, 7, 16, 12, 2, 11, 9, 4, 10], [12, 10, 1, 11, 16, 2, 3, 14, 13, 5, 15, 6, 9, 4, 7, 8], [4, 10, 12, 3, 6, 8, 15, 7, 1, 2, 16, 11, 5, 9, 14, 13], [14, 6, 9, 11, 10, 1, 8, 13, 7, 2, 12, 15, 5, 3, 16, 4], [11, 5, 3, 15, 1, 4, 9, 6, 2, 10, 12, 13, 16, 14, 8, 7], [5, 12, 9, 15, 16, 1, 3, 7, 2, 14, 10, 8, 13, 4, 6, 11], [14, 7, 10, 1, 11, 3, 2, 12, 8, 16, 4, 13, 6, 9, 5, 15], [1, 13, 11, 12, 6, 14, 4, 7, 15, 3, 16, 2, 5, 9, 10, 8], [9, 11, 5, 12, 1, 13, 8, 16, 15, 3, 7, 14, 10, 4, 6, 2], [1, 6, 5, 16, 14, 2, 4, 13, 9, 3, 15, 12, 8, 10, 11, 7], [4, 13, 2, 10, 8, 15, 5, 14, 1, 6, 9, 11, 3, 7, 12, 16], [7, 3, 15, 16, 13, 9, 4, 14, 12, 5, 8, 2, 11, 6, 1, 10], [14, 2, 8, 5, 6, 16, 9, 11, 3, 15, 7, 4, 1, 10, 13, 12], [14, 15, 9, 16, 12, 3, 1, 11, 6, 8, 2, 10, 5, 13, 4, 7], [16, 9, 13, 6, 8, 15, 11, 5, 2, 10, 4, 14, 1, 12, 3, 7], [15, 2, 4, 3, 1, 10, 8, 11, 12, 13, 6, 14, 16, 7, 9, 5], [13, 9, 4, 3, 12, 15, 6, 5, 1, 8, 16, 2, 11, 7, 10, 14], [5, 6, 14, 8, 1, 3, 7, 15, 9, 11, 13, 2, 16, 10, 12, 4], [11, 7, 16, 13, 1, 4, 9, 14, 5, 10, 12, 3, 6, 2, 8, 15], [11, 14, 1, 12, 15, 10, 3, 5, 7, 2, 16, 13, 6, 8, 9, 4], [1, 5, 8, 10, 9, 2, 6, 11, 15, 13, 12, 4, 16, 14, 7, 3], [10, 9, 2, 3, 6, 5, 14, 7, 13, 16, 1, 15, 4, 12, 11, 8], [4, 15, 14, 10, 6, 1, 5, 13, 8, 16, 2, 9, 7, 11, 12, 3], [9, 2, 8, 13, 15, 10, 1, 14, 7, 4, 11, 5, 12, 16, 3, 6], [7, 2, 15, 5, 14, 8, 10, 16, 4, 11, 9, 3, 13, 12, 1, 6], [7, 13, 10, 4, 14, 5, 2, 6, 11, 1, 8, 15, 16, 9, 3, 12], [14, 5, 2, 13, 9, 11, 10, 7, 12, 6, 15, 16, 1, 4, 8, 3], [8, 15, 7, 12, 2, 4, 13, 9, 14, 1, 5, 11, 3, 6, 16, 10], [3, 9, 13, 14, 2, 1, 4, 12, 15, 6, 7, 11, 5, 10, 16, 8], [13, 16, 4, 1, 5, 8, 11, 10, 6, 14, 7, 3, 9, 2, 12, 15], [12, 3, 13, 5, 16, 9, 6, 15, 11, 7, 8, 2, 10, 14, 4, 1], [1, 4, 16, 9, 14, 6, 7, 12, 8, 3, 10, 5, 13, 2, 15, 11], [10, 3, 1, 2, 13, 11, 7, 16, 8, 12, 15, 9, 6, 14, 4, 5], [15, 9, 13, 11, 8, 12, 7, 3, 5, 14, 16, 1, 10, 6, 2, 4], [4, 3, 7, 14, 1, 12, 6, 9, 5, 15, 2, 10, 11, 16, 13, 8], [6, 13, 15, 14, 7, 8, 3, 10, 9, 12, 5, 4, 16, 1, 2, 11], [8, 11, 13, 3, 6, 10, 14, 9, 15, 1, 16, 5, 12, 2, 4, 7], [6, 12, 14, 7, 8, 11, 16, 2, 3, 4, 13, 10, 15, 9, 1, 5], [15, 13, 10, 1, 8, 9, 12, 16, 2, 14, 11, 4, 7, 6, 3, 5], [12, 16, 7, 8, 1, 3, 5, 4, 6, 15, 13, 11, 2, 10, 14, 9], [16, 1, 15, 11, 13, 8, 3, 2, 9, 7, 4, 12, 14, 5, 6, 10], [10, 12, 9, 8, 2, 16, 13, 6, 1, 7, 15, 14, 3, 5, 11, 4], [16, 10, 2, 13, 14, 12, 9, 6, 3, 4, 1, 11, 15, 5, 7, 8], [11, 1, 15, 7, 9, 4, 10, 12, 16, 14, 6, 2, 13, 8, 3, 5], [9, 1, 10, 13, 16, 15, 11, 2, 5, 4, 6, 3, 12, 8, 7, 14], [15, 6, 9, 4, 2, 11, 5, 10, 12, 1, 8, 3, 14, 7, 13, 16], [6, 10, 2, 15, 3, 4, 11, 13, 7, 16, 5, 12, 14, 9, 1, 8], [7, 15, 9, 10, 1, 11, 2, 16, 6, 12, 14, 4, 8, 13, 3, 5], [13, 14, 15, 9, 16, 3, 7, 1, 11, 6, 12, 2, 8, 5, 4, 10], [1, 9, 12, 8, 5, 11, 13, 14, 7, 2, 15, 6, 10, 4, 3, 16], [11, 9, 8, 3, 12, 16, 15, 5, 7, 10, 13, 1, 14, 6, 4, 2], [1, 13, 16, 11, 10, 8, 9, 2, 12, 4, 3, 15, 7, 6, 14, 5], [14, 2, 7, 5, 9, 3, 13, 15, 16, 10, 4, 1, 8, 12, 11, 6], [14, 13, 6, 5, 4, 15, 10, 7, 2, 16, 11, 9, 3, 12, 8, 1], [4, 6, 16, 2, 15, 10, 5, 3, 14, 11, 7, 8, 1, 12, 9, 13], [1, 15, 7, 2, 3, 9, 4, 8, 13, 12, 6, 10, 14, 16, 11, 5], [9, 15, 6, 5, 2, 10, 8, 4, 7, 13, 1, 12, 16, 14, 3, 11], [12, 13, 16, 4, 15, 9, 8, 11, 2, 14, 3, 10, 7, 1, 5, 6], [9, 6, 7, 16, 4, 8, 12, 14, 11, 13, 3, 5, 2, 15, 1, 10], [4, 8, 15, 7, 14, 9, 10, 6, 12, 16, 13, 1, 5, 3, 2, 11], [5, 9, 6, 10, 7, 15, 1, 12, 4, 14, 3, 13, 11, 8, 2, 16], [13, 9, 16, 4, 8, 15, 6, 10, 14, 2, 1, 5, 11, 7, 12, 3], [3, 9, 10, 6, 8, 13, 16, 12, 5, 1, 14, 11, 15, 2, 4, 7], [6, 7, 13, 15, 8, 4, 14, 3, 9, 11, 16, 12, 10, 5, 1, 2], [9, 4, 7, 12, 6, 13, 11, 3, 10, 16, 2, 5, 14, 8, 1, 15], [4, 3, 14, 1, 7, 5, 2, 16, 15, 12, 11, 13, 10, 8, 6, 9], [10, 2, 9, 13, 11, 7, 8, 15, 6, 12, 5, 14, 1, 16, 4, 3], [10, 2, 11, 12, 6, 8, 13, 14, 16, 9, 4, 1, 15, 3, 5, 7], [2, 1, 14, 10, 16, 3, 13, 4, 8, 9, 11, 6, 15, 7, 5, 12], [6, 14, 2, 3, 4, 10, 12, 15, 16, 9, 8, 11, 13, 1, 7, 5], [1, 8, 12, 9, 11, 13, 2, 3, 6, 14, 15, 10, 7, 5, 4, 16], [13, 14, 12, 5, 16, 8, 4, 2, 10, 11, 6, 15, 1, 3, 9, 7], [6, 9, 10, 3, 15, 5, 16, 8, 7, 2, 4, 14, 1, 13, 12, 11], [16, 2, 3, 12, 1, 8, 10, 5, 7, 14, 9, 11, 4, 15, 13, 6], [14, 9, 15, 12, 3, 16, 1, 6, 10, 8, 5, 11, 7, 13, 2, 4], [3, 13, 6, 1, 10, 16, 15, 2, 5, 4, 11, 12, 8, 14, 7, 9], [16, 5, 4, 6, 10, 2, 9, 8, 3, 14, 1, 7, 15, 13, 11, 12], [10, 8, 5, 15, 4, 2, 14, 9, 6, 16, 3, 1, 7, 13, 11, 12], [3, 7, 5, 8, 4, 11, 1, 6, 15, 2, 9, 16, 14, 12, 13, 10], [15, 5, 12, 14, 4, 11, 9, 2, 10, 6, 1, 13, 8, 16, 7, 3], [16, 6, 2, 4, 14, 11, 7, 9, 5, 1, 10, 3, 12, 13, 15, 8], [15, 2, 14, 6, 5, 12, 3, 11, 4, 9, 7, 1, 10, 13, 8, 16], [2, 8, 3, 15, 14, 4, 12, 11, 16, 7, 13, 10, 1, 6, 9, 5], [11, 13, 2, 9, 10, 15, 3, 14, 5, 1, 7, 4, 6, 12, 8, 16], [9, 13, 4, 1, 11, 8, 14, 15, 5, 7, 3, 10, 12, 2, 6, 16], [16, 9, 1, 10, 14, 15, 13, 4, 8, 11, 2, 6, 3, 12, 7, 5], [8, 6, 10, 14, 7, 4, 16, 2, 9, 11, 1, 15, 13, 5, 12, 3], [1, 10, 7, 9, 11, 8, 14, 5, 2, 6, 16, 13, 12, 15, 3, 4], [5, 9, 6, 14, 12, 7, 3, 15, 16, 13, 4, 2, 10, 11, 1, 8], [4, 16, 6, 5, 15, 3, 13, 11, 10, 14, 2, 1, 8, 12, 9, 7], [13, 6, 4, 8, 16, 1, 14, 10, 3, 11, 15, 9, 5, 2, 7, 12], [5, 12, 2, 16, 15, 10, 3, 4, 14, 11, 8, 13, 7, 9, 1, 6], [3, 16, 15, 9, 11, 5, 4, 14, 1, 8, 7, 10, 2, 6, 13, 12], [16, 7, 5, 12, 3, 6, 15, 4, 9, 10, 11, 1, 14, 13, 8, 2], [9, 3, 6, 16, 13, 2, 12, 5, 11, 15, 10, 7, 8, 14, 4, 1], [3, 6, 8, 14, 13, 5, 15, 7, 4, 12, 2, 1, 11, 16, 10, 9], [13, 5, 15, 16, 2, 1, 6, 3, 11, 10, 14, 4, 12, 8, 7, 9], [8, 11, 5, 15, 2, 6, 1, 9, 7, 3, 10, 4, 14, 16, 13, 12], [12, 1, 7, 14, 6, 13, 2, 16, 5, 10, 11, 4, 3, 9, 15, 8], [13, 1, 11, 6, 3, 16, 5, 14, 7, 8, 9, 10, 12, 2, 15, 4], [4, 14, 5, 12, 11, 10, 7, 6, 13, 9, 15, 16, 8, 3, 2, 1], [12, 9, 10, 5, 4, 11, 3, 1, 2, 13, 7, 16, 6, 8, 15, 14], [14, 12, 15, 1, 11, 9, 2, 7, 16, 3, 6, 5, 13, 10, 8, 4], [14, 10, 2, 9, 8, 5, 12, 1, 13, 3, 6, 7, 11, 4, 16, 15], [9, 4, 11, 13, 3, 15, 6, 5, 12, 16, 10, 2, 1, 14, 7, 8], [9, 2, 15, 1, 3, 7, 11, 4, 8, 14, 12, 6, 16, 13, 5, 10], [11, 13, 9, 7, 15, 14, 5, 16, 3, 12, 1, 4, 6, 2, 8, 10], [10, 11, 4, 14, 9, 8, 3, 13, 6, 12, 5, 7, 16, 1, 2, 15], [13, 1, 9, 4, 15, 10, 12, 7, 2, 14, 6, 11, 16, 3, 5, 8], [15, 12, 2, 11, 1, 10, 9, 8, 5, 14, 4, 13, 6, 16, 7, 3], [8, 10, 2, 7, 11, 15, 5, 13, 9, 6, 1, 16, 4, 14, 3, 12], [2, 13, 6, 11, 14, 4, 9, 10, 1, 15, 8, 7, 3, 5, 16, 12], [3, 13, 8, 12, 10, 15, 9, 5, 7, 11, 4, 2, 1, 6, 14, 16], [4, 5, 7, 10, 11, 6, 13, 16, 2, 3, 9, 14, 8, 1, 12, 15], [6, 7, 4, 5, 9, 13, 2, 10, 14, 8, 3, 15, 16, 12, 1, 11], [13, 15, 12, 5, 10, 7, 3, 1, 11, 6, 14, 9, 16, 4, 2, 8], [8, 13, 3, 2, 10, 1, 6, 12, 11, 9, 4, 5, 15, 16, 14, 7], [5, 6, 14, 4, 11, 13, 9, 7, 16, 12, 1, 15, 8, 10, 2, 3], [13, 5, 12, 11, 9, 14, 15, 1, 4, 7, 3, 8, 16, 2, 6, 10], [6, 13, 7, 3, 12, 10, 4, 11, 14, 5, 16, 1, 8, 2, 9, 15], [3, 14, 9, 6, 4, 5, 1, 7, 16, 15, 12, 10, 8, 11, 13, 2], [13, 9, 11, 16, 5, 7, 10, 4, 3, 6, 2, 12, 14, 15, 1, 8], [15, 6, 5, 14, 16, 1, 8, 3, 7, 4, 11, 12, 9, 13, 2, 10], [10, 9, 11, 12, 16, 13, 1, 7, 5, 2, 3, 6, 14, 4, 15, 8], [9, 3, 5, 16, 11, 15, 10, 14, 12, 7, 4, 2, 1, 6, 8, 13], [13, 4, 10, 3, 14, 2, 1, 7, 16, 11, 12, 6, 8, 9, 15, 5], [3, 10, 16, 1, 7, 13, 8, 14, 6, 2, 5, 9, 4, 12, 11, 15], [1, 12, 14, 5, 13, 10, 15, 16, 6, 4, 9, 8, 7, 2, 3, 11], [12, 13, 2, 15, 5, 16, 4, 8, 14, 11, 3, 7, 10, 9, 1, 6], [5, 6, 15, 14, 4, 11, 9, 10, 13, 2, 16, 12, 3, 7, 1, 8], [5, 12, 3, 15, 8, 6, 11, 7, 4, 10, 16, 2, 14, 9, 1, 13], [3, 11, 15, 2, 16, 4, 14, 8, 6, 7, 13, 12, 1, 10, 9, 5], [5, 9, 11, 4, 2, 6, 15, 10, 7, 16, 12, 3, 8, 13, 1, 14], [12, 14, 6, 7, 16, 1, 13, 11, 9, 5, 8, 10, 3, 2, 15, 4], [8, 5, 11, 3, 12, 2, 4, 7, 16, 13, 9, 14, 6, 10, 1, 15], [11, 15, 4, 9, 3, 13, 7, 10, 6, 14, 2, 12, 5, 16, 1, 8], [1, 2, 3, 7, 12, 9, 15, 11, 4, 13, 5, 10, 6, 16, 14, 8], [1, 6, 5, 7, 15, 10, 3, 12, 8, 2, 13, 4, 16, 11, 9, 14], [9, 15, 1, 10, 3, 8, 6, 12, 16, 13, 5, 14, 7, 11, 2, 4], [10, 1, 15, 16, 4, 12, 9, 6, 14, 3, 5, 13, 7, 2, 8, 11], [16, 14, 5, 12, 8, 7, 6, 10, 9, 11, 2, 13, 3, 4, 15, 1], [6, 5, 10, 1, 9, 4, 3, 11, 14, 16, 12, 2, 13, 15, 7, 8], [8, 4, 11, 14, 5, 16, 2, 12, 3, 6, 1, 15, 9, 13, 7, 10], [12, 2, 13, 4, 15, 1, 16, 8, 9, 6, 3, 10, 14, 5, 11, 7], [3, 13, 12, 14, 10, 2, 6, 11, 4, 1, 15, 5, 7, 8, 9, 16], [6, 8, 9, 5, 12, 10, 4, 7, 14, 16, 1, 3, 13, 15, 2, 11], [3, 14, 16, 1, 13, 6, 9, 4, 12, 5, 7, 15, 2, 8, 10, 11], [15, 4, 13, 5, 11, 16, 12, 9, 3, 14, 8, 10, 1, 7, 2, 6], [9, 15, 1, 5, 2, 3, 12, 13, 14, 16, 7, 6, 4, 8, 11, 10], [4, 16, 6, 15, 7, 3, 14, 13, 2, 12, 5, 1, 9, 8, 10, 11], [3, 15, 8, 16, 14, 11, 7, 2, 13, 4, 5, 6, 10, 12, 1, 9], [4, 6, 14, 7, 13, 11, 10, 2, 16, 1, 5, 9, 8, 12, 3, 15], [5, 10, 4, 2, 9, 3, 7, 13, 8, 1, 6, 12, 11, 16, 15, 14], [5, 16, 11, 7, 15, 8, 10, 3, 2, 14, 9, 1, 12, 13, 6, 4], [9, 12, 8, 6, 16, 1, 11, 7, 14, 4, 10, 2, 15, 3, 13, 5], [2, 14, 3, 1, 11, 4, 10, 9, 12, 16, 15, 7, 5, 6, 13, 8], [9, 3, 6, 8, 1, 10, 13, 5, 15, 16, 11, 12, 4, 14, 7, 2], [3, 8, 7, 1, 13, 11, 12, 5, 16, 9, 14, 10, 2, 6, 15, 4], [11, 8, 6, 2, 3, 12, 9, 5, 10, 4, 14, 13, 7, 15, 1, 16], [16, 9, 14, 6, 3, 13, 5, 4, 2, 15, 8, 11, 12, 1, 7, 10], [6, 2, 1, 11, 15, 9, 10, 13, 12, 5, 3, 7, 16, 8, 14, 4], [1, 14, 6, 13, 9, 12, 16, 4, 2, 7, 5, 8, 3, 11, 10, 15], [12, 5, 8, 7, 10, 6, 16, 2, 15, 9, 13, 14, 1, 4, 11, 3], [16, 13, 9, 11, 12, 10, 1, 6, 15, 3, 8, 7, 2, 14, 5, 4], [3, 1, 7, 9, 11, 5, 16, 14, 15, 10, 8, 4, 2, 13, 6, 12], [13, 14, 9, 6, 16, 3, 2, 15, 1, 5, 12, 10, 4, 8, 7, 11], [2, 5, 3, 7, 16, 14, 4, 9, 1, 15, 8, 10, 11, 13, 12, 6], [5, 4, 10, 13, 6, 8, 16, 14, 1, 9, 2, 12, 3, 15, 11, 7], [5, 2, 3, 6, 11, 1, 4, 12, 9, 8, 7, 10, 13, 15, 16, 14], [11, 14, 3, 15, 5, 13, 12, 16, 8, 9, 7, 2, 1, 6, 4, 10], [3, 4, 1, 15, 7, 9, 2, 8, 11, 13, 12, 16, 5, 14, 10, 6], [2, 3, 14, 11, 15, 5, 10, 16, 13, 8, 12, 7, 4, 6, 9, 1], [9, 13, 6, 14, 3, 11, 5, 8, 1, 10, 7, 2, 12, 4, 15, 16], [5, 3, 1, 16, 8, 13, 12, 9, 14, 15, 7, 6, 11, 10, 2, 4], [2, 3, 11, 1, 14, 12, 15, 5, 8, 6, 10, 16, 7, 13, 4, 9], [2, 5, 6, 11, 14, 10, 16, 9, 7, 15, 12, 8, 1, 3, 13, 4], [6, 5, 10, 14, 7, 12, 4, 8, 1, 15, 9, 2, 13, 3, 11, 16], [8, 2, 14, 3, 15, 13, 1, 12, 6, 11, 16, 10, 5, 4, 7, 9], [13, 11, 15, 7, 12, 8, 10, 16, 6, 14, 1, 2, 3, 9, 4, 5], [9, 7, 6, 10, 16, 4, 15, 8, 2, 5, 3, 1, 11, 14, 13, 12], [9, 5, 15, 7, 8, 10, 14, 6, 12, 13, 16, 11, 4, 1, 3, 2], [6, 14, 16, 5, 7, 3, 4, 8, 13, 1, 15, 9, 10, 12, 11, 2], [7, 14, 3, 2, 6, 15, 12, 1, 16, 10, 13, 11, 9, 4, 8, 5], [1, 4, 16, 2, 8, 11, 14, 7, 5, 12, 13, 3, 9, 15, 6, 10], [13, 10, 5, 9, 2, 8, 3, 12, 16, 15, 6, 7, 11, 14, 4, 1], [2, 14, 5, 4, 8, 7, 6, 16, 15, 9, 11, 13, 1, 10, 3, 12]]\n"
     ]
    },
    {
     "ename": "TypeError",
     "evalue": "unsupported operand type(s) for ** or pow(): 'tuple' and 'float'",
     "output_type": "error",
     "traceback": [
      "\u001b[0;31m---------------------------------------------------------------------------\u001b[0m",
      "\u001b[0;31mTypeError\u001b[0m                                 Traceback (most recent call last)",
      "\u001b[1;32m/Users/blanc/Desktop/4 CURSO/SI/Lab/aima-python-master/search3e-GeneticAlgorithm_2023_2024- ConPermutaciones.ipynb Cell 15\u001b[0m line \u001b[0;36m3\n\u001b[1;32m      <a href='vscode-notebook-cell:/Users/blanc/Desktop/4%20CURSO/SI/Lab/aima-python-master/search3e-GeneticAlgorithm_2023_2024-%20ConPermutaciones.ipynb#X20sZmlsZQ%3D%3D?line=0'>1</a>\u001b[0m population \u001b[39m=\u001b[39m init_population(max_population, gene_pool)\n\u001b[1;32m      <a href='vscode-notebook-cell:/Users/blanc/Desktop/4%20CURSO/SI/Lab/aima-python-master/search3e-GeneticAlgorithm_2023_2024-%20ConPermutaciones.ipynb#X20sZmlsZQ%3D%3D?line=1'>2</a>\u001b[0m \u001b[39mprint\u001b[39m(population)\n\u001b[0;32m----> <a href='vscode-notebook-cell:/Users/blanc/Desktop/4%20CURSO/SI/Lab/aima-python-master/search3e-GeneticAlgorithm_2023_2024-%20ConPermutaciones.ipynb#X20sZmlsZQ%3D%3D?line=2'>3</a>\u001b[0m solution \u001b[39m=\u001b[39m genetic_algorithm_stepwise(population, fitness_fn, gene_pool, ngen, mutation_rate)\n\u001b[1;32m      <a href='vscode-notebook-cell:/Users/blanc/Desktop/4%20CURSO/SI/Lab/aima-python-master/search3e-GeneticAlgorithm_2023_2024-%20ConPermutaciones.ipynb#X20sZmlsZQ%3D%3D?line=3'>4</a>\u001b[0m \u001b[39m# print(\"Target: \")\u001b[39;00m\n\u001b[1;32m      <a href='vscode-notebook-cell:/Users/blanc/Desktop/4%20CURSO/SI/Lab/aima-python-master/search3e-GeneticAlgorithm_2023_2024-%20ConPermutaciones.ipynb#X20sZmlsZQ%3D%3D?line=4'>5</a>\u001b[0m \u001b[39m# print(target)\u001b[39;00m\n\u001b[1;32m      <a href='vscode-notebook-cell:/Users/blanc/Desktop/4%20CURSO/SI/Lab/aima-python-master/search3e-GeneticAlgorithm_2023_2024-%20ConPermutaciones.ipynb#X20sZmlsZQ%3D%3D?line=5'>6</a>\u001b[0m \u001b[39mprint\u001b[39m(\u001b[39m\"\u001b[39m\u001b[39mSolution: \u001b[39m\u001b[39m\"\u001b[39m)\n",
      "\u001b[1;32m/Users/blanc/Desktop/4 CURSO/SI/Lab/aima-python-master/search3e-GeneticAlgorithm_2023_2024- ConPermutaciones.ipynb Cell 15\u001b[0m line \u001b[0;36m5\n\u001b[1;32m      <a href='vscode-notebook-cell:/Users/blanc/Desktop/4%20CURSO/SI/Lab/aima-python-master/search3e-GeneticAlgorithm_2023_2024-%20ConPermutaciones.ipynb#X20sZmlsZQ%3D%3D?line=1'>2</a>\u001b[0m \u001b[39mfor\u001b[39;00m generation \u001b[39min\u001b[39;00m \u001b[39mrange\u001b[39m(\u001b[39mint\u001b[39m(ngen)):\n\u001b[1;32m      <a href='vscode-notebook-cell:/Users/blanc/Desktop/4%20CURSO/SI/Lab/aima-python-master/search3e-GeneticAlgorithm_2023_2024-%20ConPermutaciones.ipynb#X20sZmlsZQ%3D%3D?line=2'>3</a>\u001b[0m     \u001b[39m# Elitism may be here - ADDED\u001b[39;00m\n\u001b[1;32m      <a href='vscode-notebook-cell:/Users/blanc/Desktop/4%20CURSO/SI/Lab/aima-python-master/search3e-GeneticAlgorithm_2023_2024-%20ConPermutaciones.ipynb#X20sZmlsZQ%3D%3D?line=3'>4</a>\u001b[0m     previous_best \u001b[39m=\u001b[39m \u001b[39mmax\u001b[39m(population, key\u001b[39m=\u001b[39mfitness_fn)\n\u001b[0;32m----> <a href='vscode-notebook-cell:/Users/blanc/Desktop/4%20CURSO/SI/Lab/aima-python-master/search3e-GeneticAlgorithm_2023_2024-%20ConPermutaciones.ipynb#X20sZmlsZQ%3D%3D?line=4'>5</a>\u001b[0m     population \u001b[39m=\u001b[39m [mutate2(uniform_crossover(\u001b[39m*\u001b[39mselect(\u001b[39m2\u001b[39m, population, fitness_fn)), pmut) \u001b[39mfor\u001b[39;00m i \u001b[39min\u001b[39;00m \u001b[39mrange\u001b[39m(\u001b[39mlen\u001b[39m(population)\u001b[39m-\u001b[39m\u001b[39m1\u001b[39m)]\n\u001b[1;32m      <a href='vscode-notebook-cell:/Users/blanc/Desktop/4%20CURSO/SI/Lab/aima-python-master/search3e-GeneticAlgorithm_2023_2024-%20ConPermutaciones.ipynb#X20sZmlsZQ%3D%3D?line=5'>6</a>\u001b[0m     population\u001b[39m.\u001b[39mappend(previous_best)\n\u001b[1;32m      <a href='vscode-notebook-cell:/Users/blanc/Desktop/4%20CURSO/SI/Lab/aima-python-master/search3e-GeneticAlgorithm_2023_2024-%20ConPermutaciones.ipynb#X20sZmlsZQ%3D%3D?line=6'>7</a>\u001b[0m     \u001b[39m# stores the individual genome with the highest fitness in the current population\u001b[39;00m\n",
      "\u001b[1;32m/Users/blanc/Desktop/4 CURSO/SI/Lab/aima-python-master/search3e-GeneticAlgorithm_2023_2024- ConPermutaciones.ipynb Cell 15\u001b[0m line \u001b[0;36m5\n\u001b[1;32m      <a href='vscode-notebook-cell:/Users/blanc/Desktop/4%20CURSO/SI/Lab/aima-python-master/search3e-GeneticAlgorithm_2023_2024-%20ConPermutaciones.ipynb#X20sZmlsZQ%3D%3D?line=1'>2</a>\u001b[0m \u001b[39mfor\u001b[39;00m generation \u001b[39min\u001b[39;00m \u001b[39mrange\u001b[39m(\u001b[39mint\u001b[39m(ngen)):\n\u001b[1;32m      <a href='vscode-notebook-cell:/Users/blanc/Desktop/4%20CURSO/SI/Lab/aima-python-master/search3e-GeneticAlgorithm_2023_2024-%20ConPermutaciones.ipynb#X20sZmlsZQ%3D%3D?line=2'>3</a>\u001b[0m     \u001b[39m# Elitism may be here - ADDED\u001b[39;00m\n\u001b[1;32m      <a href='vscode-notebook-cell:/Users/blanc/Desktop/4%20CURSO/SI/Lab/aima-python-master/search3e-GeneticAlgorithm_2023_2024-%20ConPermutaciones.ipynb#X20sZmlsZQ%3D%3D?line=3'>4</a>\u001b[0m     previous_best \u001b[39m=\u001b[39m \u001b[39mmax\u001b[39m(population, key\u001b[39m=\u001b[39mfitness_fn)\n\u001b[0;32m----> <a href='vscode-notebook-cell:/Users/blanc/Desktop/4%20CURSO/SI/Lab/aima-python-master/search3e-GeneticAlgorithm_2023_2024-%20ConPermutaciones.ipynb#X20sZmlsZQ%3D%3D?line=4'>5</a>\u001b[0m     population \u001b[39m=\u001b[39m [mutate2(uniform_crossover(\u001b[39m*\u001b[39mselect(\u001b[39m2\u001b[39;49m, population, fitness_fn)), pmut) \u001b[39mfor\u001b[39;00m i \u001b[39min\u001b[39;00m \u001b[39mrange\u001b[39m(\u001b[39mlen\u001b[39m(population)\u001b[39m-\u001b[39m\u001b[39m1\u001b[39m)]\n\u001b[1;32m      <a href='vscode-notebook-cell:/Users/blanc/Desktop/4%20CURSO/SI/Lab/aima-python-master/search3e-GeneticAlgorithm_2023_2024-%20ConPermutaciones.ipynb#X20sZmlsZQ%3D%3D?line=5'>6</a>\u001b[0m     population\u001b[39m.\u001b[39mappend(previous_best)\n\u001b[1;32m      <a href='vscode-notebook-cell:/Users/blanc/Desktop/4%20CURSO/SI/Lab/aima-python-master/search3e-GeneticAlgorithm_2023_2024-%20ConPermutaciones.ipynb#X20sZmlsZQ%3D%3D?line=6'>7</a>\u001b[0m     \u001b[39m# stores the individual genome with the highest fitness in the current population\u001b[39;00m\n",
      "\u001b[1;32m/Users/blanc/Desktop/4 CURSO/SI/Lab/aima-python-master/search3e-GeneticAlgorithm_2023_2024- ConPermutaciones.ipynb Cell 15\u001b[0m line \u001b[0;36m2\n\u001b[1;32m     <a href='vscode-notebook-cell:/Users/blanc/Desktop/4%20CURSO/SI/Lab/aima-python-master/search3e-GeneticAlgorithm_2023_2024-%20ConPermutaciones.ipynb#X20sZmlsZQ%3D%3D?line=24'>25</a>\u001b[0m fitnesses \u001b[39m=\u001b[39m \u001b[39mmap\u001b[39m(fitness_fn, population)\n\u001b[1;32m     <a href='vscode-notebook-cell:/Users/blanc/Desktop/4%20CURSO/SI/Lab/aima-python-master/search3e-GeneticAlgorithm_2023_2024-%20ConPermutaciones.ipynb#X20sZmlsZQ%3D%3D?line=25'>26</a>\u001b[0m \u001b[39m#scaling here\u001b[39;00m\n\u001b[0;32m---> <a href='vscode-notebook-cell:/Users/blanc/Desktop/4%20CURSO/SI/Lab/aima-python-master/search3e-GeneticAlgorithm_2023_2024-%20ConPermutaciones.ipynb#X20sZmlsZQ%3D%3D?line=26'>27</a>\u001b[0m sampler \u001b[39m=\u001b[39m weighted_sampler(population, fitnesses)\n\u001b[1;32m     <a href='vscode-notebook-cell:/Users/blanc/Desktop/4%20CURSO/SI/Lab/aima-python-master/search3e-GeneticAlgorithm_2023_2024-%20ConPermutaciones.ipynb#X20sZmlsZQ%3D%3D?line=27'>28</a>\u001b[0m \u001b[39mreturn\u001b[39;00m [sampler() \u001b[39mfor\u001b[39;00m i \u001b[39min\u001b[39;00m \u001b[39mrange\u001b[39m(r)]\n",
      "\u001b[1;32m/Users/blanc/Desktop/4 CURSO/SI/Lab/aima-python-master/search3e-GeneticAlgorithm_2023_2024- ConPermutaciones.ipynb Cell 15\u001b[0m line \u001b[0;36m3\n\u001b[1;32m     <a href='vscode-notebook-cell:/Users/blanc/Desktop/4%20CURSO/SI/Lab/aima-python-master/search3e-GeneticAlgorithm_2023_2024-%20ConPermutaciones.ipynb#X20sZmlsZQ%3D%3D?line=31'>32</a>\u001b[0m totals \u001b[39m=\u001b[39m []\n\u001b[1;32m     <a href='vscode-notebook-cell:/Users/blanc/Desktop/4%20CURSO/SI/Lab/aima-python-master/search3e-GeneticAlgorithm_2023_2024-%20ConPermutaciones.ipynb#X20sZmlsZQ%3D%3D?line=32'>33</a>\u001b[0m \u001b[39mfor\u001b[39;00m w \u001b[39min\u001b[39;00m weights:\n\u001b[0;32m---> <a href='vscode-notebook-cell:/Users/blanc/Desktop/4%20CURSO/SI/Lab/aima-python-master/search3e-GeneticAlgorithm_2023_2024-%20ConPermutaciones.ipynb#X20sZmlsZQ%3D%3D?line=33'>34</a>\u001b[0m     totals\u001b[39m.\u001b[39mappend(w\u001b[39m*\u001b[39;49m\u001b[39m*\u001b[39;49m\u001b[39m0.5\u001b[39;49m \u001b[39m+\u001b[39m totals[\u001b[39m-\u001b[39m\u001b[39m1\u001b[39m]\u001b[39m*\u001b[39m\u001b[39m*\u001b[39m\u001b[39m0.5\u001b[39m \u001b[39mif\u001b[39;00m totals \u001b[39melse\u001b[39;00m w)\n\u001b[1;32m     <a href='vscode-notebook-cell:/Users/blanc/Desktop/4%20CURSO/SI/Lab/aima-python-master/search3e-GeneticAlgorithm_2023_2024-%20ConPermutaciones.ipynb#X20sZmlsZQ%3D%3D?line=34'>35</a>\u001b[0m \u001b[39mreturn\u001b[39;00m \u001b[39mlambda\u001b[39;00m: seq[bisect\u001b[39m.\u001b[39mbisect(totals, random\u001b[39m.\u001b[39muniform(\u001b[39m0\u001b[39m, totals[\u001b[39m-\u001b[39m\u001b[39m1\u001b[39m]))]\n",
      "\u001b[0;31mTypeError\u001b[0m: unsupported operand type(s) for ** or pow(): 'tuple' and 'float'"
     ]
    }
   ],
   "source": [
    "population = init_population(max_population, gene_pool)\n",
    "print(population)\n",
    "solution = genetic_algorithm_stepwise(population, fitness_fn, gene_pool, ngen, mutation_rate)\n",
    "# print(\"Target: \")\n",
    "# print(target)\n",
    "print(\"Solution: \")\n",
    "print(solution)\n",
    "print(\"Fitness: \")\n",
    "print(fitness_fn(solution))"
   ]
  },
  {
   "attachments": {},
   "cell_type": "markdown",
   "metadata": {},
   "source": [
    "The genetic algorithm was able to converge!\n",
    "We implore you to rerun the above cell and play around with `target, max_population, f_thres, ngen` etc parameters to get a better intuition of how the algorithm works. To summarize, if we can define the problem states in simple array format and if we can create a fitness function to gauge how good or bad our approximate solutions are, there is a high chance that we can get a satisfactory solution using a genetic algorithm. \n",
    "- There is also a better GUI version of this program `genetic_algorithm_example.py` in the GUI folder for you to play around with."
   ]
  },
  {
   "attachments": {},
   "cell_type": "markdown",
   "metadata": {},
   "source": [
    "#### Eight Queens\n",
    "\n",
    "Let's take a look at a more complicated problem.\n",
    "\n",
    "In the *Eight Queens* problem, we are tasked with placing eight queens on an 8x8 chessboard without any queen threatening the others (aka queens should not be in the same row, column or diagonal). In its general form the problem is defined as placing *N* queens in an NxN chessboard without any conflicts.\n",
    "\n",
    "First we need to think about the representation of each solution. We can go the naive route of representing the whole chessboard with the queens' placements on it. That is definitely one way to go about it, but for the purpose of this tutorial we will do something different. We have eight queens, so we will have a gene for each of them. The gene pool will be numbers from 0 to 7, for the different columns. The *position* of the gene in the state will denote the row the particular queen is placed in.\n",
    "\n",
    "For example, we can have the state \"03304577\". Here the first gene with a value of 0 means \"the queen at row 0 is placed at column 0\", for the second gene \"the queen at row 1 is placed at column 3\" and so forth.\n",
    "\n",
    "We now need to think about the fitness function. On the graph coloring problem we counted the valid edges. The same thought process can be applied here. Instead of edges though, we have positioning between queens. If two queens are not threatening each other, we say they are at a \"non-attacking\" positioning. We can, therefore, count how many such positionings are there.\n",
    "\n",
    "Let's dive right in and initialize our population:"
   ]
  },
  {
   "cell_type": "code",
   "execution_count": null,
   "metadata": {},
   "outputs": [
    {
     "name": "stdout",
     "output_type": "stream",
     "text": [
      "[[3, 15, 16, 13, 8, 9, 14, 10, 4, 5, 11, 2, 7, 12, 6, 1], [6, 4, 1, 14, 3, 16, 11, 10, 8, 7, 15, 9, 13, 2, 5, 12], [13, 14, 4, 8, 9, 12, 10, 5, 1, 15, 6, 7, 11, 3, 16, 2], [9, 6, 8, 16, 5, 2, 14, 10, 1, 3, 4, 7, 13, 15, 12, 11], [16, 10, 15, 7, 4, 1, 5, 3, 11, 13, 8, 12, 2, 9, 14, 6]]\n"
     ]
    }
   ],
   "source": [
    "population = init_population(100, gene_pool)\n",
    "print(population[:5])"
   ]
  },
  {
   "attachments": {},
   "cell_type": "markdown",
   "metadata": {},
   "source": [
    "We have a population of 100 and each individual has 8 genes. The gene pool is the integers from 0 to 7, in string form. Above you can see the first five individuals.\n",
    "\n",
    "Next we need to write our fitness function. Remember, queens threaten each other if they are at the same row, column or diagonal.\n",
    "\n",
    "Since positionings are mutual, we must take care not to count them twice. Therefore for each queen, we will only check for conflicts for the queens after her.\n",
    "\n",
    "A gene's value in an individual `q` denotes the queen's column, and the position of the gene denotes its row. We can check if the aforementioned values between two genes are the same. We also need to check for diagonals. A queen *a* is in the diagonal of another queen, *b*, if the difference of the rows between them is equal to either their difference in columns (for the diagonal on the right of *a*) or equal to the negative difference of their columns (for the left diagonal of *a*). Below is given the fitness function."
   ]
  },
  {
   "cell_type": "code",
   "execution_count": null,
   "metadata": {
    "collapsed": true
   },
   "outputs": [],
   "source": [
    "def fitness(q):\n",
    "    non_attacking = 0\n",
    "    for row1 in range(len(q)):\n",
    "        for row2 in range(row1+1, len(q)):\n",
    "            col1 = int(q[row1])\n",
    "            col2 = int(q[row2])\n",
    "            row_diff = row1 - row2\n",
    "            col_diff = col1 - col2\n",
    "\n",
    "            if col1 != col2 and row_diff != col_diff and row_diff != -col_diff:\n",
    "                non_attacking += 1\n",
    "\n",
    "    return non_attacking"
   ]
  },
  {
   "attachments": {},
   "cell_type": "markdown",
   "metadata": {},
   "source": [
    "Note that the best score achievable is 28. That is because for each queen we only check for the queens after her. For the first queen we check 7 other queens, for the second queen 6 others and so on. In short, the number of checks we make is the sum 7+6+5+...+1. Which is equal to 7\\*(7+1)/2 = 28.\n",
    "\n",
    "Because it is very hard and will take long to find a perfect solution, we will set the fitness threshold at 25. If we find an individual with a score greater or equal to that, we will halt. Let's see how the genetic algorithm will fare."
   ]
  },
  {
   "cell_type": "code",
   "execution_count": null,
   "metadata": {},
   "outputs": [
    {
     "name": "stdout",
     "output_type": "stream",
     "text": [
      "Current best: [16, 15, 5, 12, 2, 13, 10, 4, 14, 3, 9, 6, 8, 1, 7, 11]\t\tGeneration: 0\t\tFitness: 116\n",
      "Current best: [16, 15, 5, 12, 2, 13, 10, 4, 14, 3, 9, 6, 8, 1, 7, 11]\t\tGeneration: 1\t\tFitness: 116\n",
      "Current best: [16, 15, 5, 12, 2, 13, 10, 4, 14, 3, 9, 6, 8, 1, 7, 11]\t\tGeneration: 2\t\tFitness: 116\n",
      "Current best: [16, 15, 5, 12, 2, 13, 10, 4, 14, 3, 9, 6, 8, 1, 7, 11]\t\tGeneration: 3\t\tFitness: 116\n",
      "Current best: [16, 15, 5, 12, 2, 13, 10, 4, 14, 3, 9, 6, 8, 1, 7, 11]\t\tGeneration: 4\t\tFitness: 116\n",
      "Current best: [16, 15, 5, 12, 2, 13, 10, 4, 14, 3, 9, 6, 8, 1, 7, 11]\t\tGeneration: 5\t\tFitness: 116\n",
      "Current best: [16, 15, 5, 12, 2, 13, 10, 4, 14, 3, 9, 6, 8, 1, 7, 11]\t\tGeneration: 6\t\tFitness: 116\n",
      "Current best: [16, 15, 5, 12, 2, 13, 10, 4, 14, 3, 9, 6, 8, 1, 7, 11]\t\tGeneration: 7\t\tFitness: 116\n",
      "Current best: [3, 16, 5, 12, 2, 13, 10, 4, 14, 15, 9, 6, 8, 1, 7, 11]\t\tGeneration: 8\t\tFitness: 116\n",
      "Current best: [3, 16, 5, 12, 2, 13, 10, 4, 14, 15, 9, 6, 8, 1, 7, 11]\t\tGeneration: 9\t\tFitness: 116\n",
      "Current best: [3, 16, 5, 12, 2, 13, 10, 4, 14, 15, 9, 6, 8, 1, 7, 11]\t\tGeneration: 10\t\tFitness: 116\n",
      "Current best: [3, 16, 5, 12, 2, 13, 10, 4, 14, 15, 9, 6, 8, 1, 7, 11]\t\tGeneration: 11\t\tFitness: 116\n",
      "Current best: [3, 16, 5, 12, 2, 13, 10, 4, 14, 15, 9, 6, 8, 1, 7, 11]\t\tGeneration: 12\t\tFitness: 116\n",
      "Current best: [3, 16, 5, 12, 2, 13, 10, 4, 14, 15, 9, 6, 8, 1, 7, 11]\t\tGeneration: 13\t\tFitness: 116\n",
      "Current best: [3, 16, 5, 12, 2, 13, 10, 4, 14, 15, 9, 6, 8, 1, 7, 11]\t\tGeneration: 14\t\tFitness: 116\n",
      "Current best: [3, 16, 5, 12, 2, 13, 10, 4, 14, 15, 9, 6, 8, 1, 7, 11]\t\tGeneration: 15\t\tFitness: 116\n",
      "Current best: [3, 16, 5, 13, 10, 4, 14, 15, 2, 6, 8, 1, 7, 12, 9, 11]\t\tGeneration: 16\t\tFitness: 116\n",
      "Current best: [3, 16, 5, 13, 4, 14, 10, 15, 2, 6, 9, 12, 8, 1, 7, 11]\t\tGeneration: 17\t\tFitness: 116\n",
      "Current best: [3, 16, 5, 13, 4, 14, 10, 15, 2, 6, 9, 12, 8, 1, 7, 11]\t\tGeneration: 18\t\tFitness: 116\n",
      "Current best: [3, 16, 5, 13, 4, 14, 10, 15, 2, 6, 8, 12, 9, 1, 7, 11]\t\tGeneration: 19\t\tFitness: 116\n",
      "Current best: [1, 12, 5, 13, 10, 4, 14, 15, 2, 6, 8, 9, 7, 16, 3, 11]\t\tGeneration: 20\t\tFitness: 116\n",
      "Current best: [1, 12, 5, 13, 10, 4, 14, 15, 2, 6, 8, 9, 7, 16, 3, 11]\t\tGeneration: 21\t\tFitness: 116\n",
      "Current best: [1, 12, 5, 13, 10, 4, 14, 15, 2, 6, 8, 9, 7, 16, 3, 11]\t\tGeneration: 22\t\tFitness: 116\n",
      "Current best: [1, 12, 5, 13, 10, 4, 14, 15, 2, 6, 8, 9, 7, 16, 3, 11]\t\tGeneration: 23\t\tFitness: 116\n",
      "Current best: [1, 12, 5, 13, 10, 4, 14, 15, 2, 6, 8, 9, 7, 16, 3, 11]\t\tGeneration: 24\t\tFitness: 116\n",
      "Current best: [1, 12, 5, 13, 10, 4, 14, 15, 2, 6, 8, 9, 7, 16, 3, 11]\t\tGeneration: 25\t\tFitness: 116\n",
      "Current best: [1, 12, 5, 13, 10, 4, 14, 15, 2, 6, 8, 9, 7, 16, 3, 11]\t\tGeneration: 26\t\tFitness: 116\n",
      "Current best: [1, 12, 5, 13, 10, 4, 14, 15, 2, 6, 8, 9, 7, 16, 3, 11]\t\tGeneration: 27\t\tFitness: 116\n",
      "Current best: [1, 12, 5, 13, 10, 4, 14, 15, 2, 6, 8, 9, 7, 16, 3, 11]\t\tGeneration: 28\t\tFitness: 116\n",
      "Current best: [1, 12, 5, 13, 10, 4, 14, 8, 2, 6, 15, 9, 7, 16, 3, 11]\t\tGeneration: 29\t\tFitness: 116\n",
      "Current best: [1, 12, 5, 13, 10, 4, 14, 8, 2, 6, 15, 9, 7, 16, 3, 11]\t\tGeneration: 30\t\tFitness: 116\n",
      "Current best: [1, 12, 5, 13, 10, 4, 14, 8, 2, 6, 15, 9, 7, 16, 3, 11]\t\tGeneration: 31\t\tFitness: 116\n",
      "Current best: [1, 12, 5, 13, 10, 4, 14, 8, 2, 6, 15, 9, 7, 16, 3, 11]\t\tGeneration: 32\t\tFitness: 116\n",
      "Current best: [1, 12, 5, 13, 10, 4, 14, 8, 2, 6, 15, 9, 7, 16, 3, 11]\t\tGeneration: 33\t\tFitness: 116\n",
      "Current best: [1, 12, 5, 13, 10, 4, 14, 8, 2, 6, 15, 9, 7, 16, 3, 11]\t\tGeneration: 34\t\tFitness: 116\n",
      "Current best: [1, 12, 5, 13, 10, 4, 14, 8, 2, 6, 15, 9, 7, 16, 3, 11]\t\tGeneration: 35\t\tFitness: 116\n",
      "Current best: [1, 12, 5, 13, 10, 4, 14, 8, 2, 6, 15, 9, 7, 16, 3, 11]\t\tGeneration: 36\t\tFitness: 116\n",
      "Current best: [1, 12, 5, 13, 10, 4, 14, 8, 2, 6, 15, 9, 7, 16, 3, 11]\t\tGeneration: 37\t\tFitness: 116\n",
      "Current best: [5, 12, 1, 13, 10, 4, 14, 8, 2, 6, 15, 9, 7, 16, 3, 11]\t\tGeneration: 38\t\tFitness: 116\n",
      "Current best: [5, 12, 1, 13, 10, 4, 14, 8, 2, 6, 15, 9, 7, 16, 3, 11]\t\tGeneration: 39\t\tFitness: 116\n",
      "Current best: [5, 12, 1, 13, 10, 4, 14, 8, 2, 6, 15, 9, 7, 16, 3, 11]\t\tGeneration: 40\t\tFitness: 116\n",
      "Current best: [5, 12, 1, 13, 10, 4, 14, 8, 2, 6, 15, 9, 7, 16, 3, 11]\t\tGeneration: 41\t\tFitness: 116\n",
      "Current best: [5, 12, 1, 13, 10, 4, 14, 8, 2, 6, 15, 9, 7, 16, 3, 11]\t\tGeneration: 42\t\tFitness: 116\n",
      "Current best: [5, 12, 1, 13, 10, 4, 14, 8, 2, 6, 15, 9, 7, 16, 3, 11]\t\tGeneration: 43\t\tFitness: 116\n",
      "Current best: [5, 12, 1, 13, 10, 4, 14, 8, 2, 6, 15, 9, 7, 16, 3, 11]\t\tGeneration: 44\t\tFitness: 116\n",
      "Current best: [5, 12, 1, 13, 10, 4, 14, 8, 2, 6, 15, 9, 7, 16, 3, 11]\t\tGeneration: 45\t\tFitness: 116\n",
      "Current best: [5, 12, 1, 13, 10, 4, 14, 8, 2, 6, 15, 9, 7, 16, 3, 11]\t\tGeneration: 46\t\tFitness: 116\n",
      "Current best: [5, 12, 1, 13, 10, 4, 14, 8, 2, 6, 15, 9, 7, 16, 3, 11]\t\tGeneration: 47\t\tFitness: 116\n",
      "Current best: [5, 12, 1, 13, 10, 4, 14, 8, 15, 6, 2, 9, 7, 16, 3, 11]\t\tGeneration: 48\t\tFitness: 117\n",
      "Current best: [5, 12, 1, 13, 10, 4, 14, 8, 15, 6, 2, 9, 7, 16, 3, 11]\t\tGeneration: 49\t\tFitness: 117\n",
      "Current best: [5, 12, 1, 13, 10, 4, 14, 8, 15, 6, 2, 9, 7, 16, 3, 11]\t\tGeneration: 50\t\tFitness: 117\n",
      "Current best: [5, 12, 1, 13, 10, 4, 14, 8, 15, 6, 2, 9, 7, 16, 3, 11]\t\tGeneration: 51\t\tFitness: 117\n",
      "Current best: [5, 12, 1, 13, 10, 4, 14, 8, 15, 6, 2, 9, 7, 16, 3, 11]\t\tGeneration: 52\t\tFitness: 117\n",
      "Current best: [3, 12, 1, 13, 10, 5, 14, 8, 15, 6, 2, 9, 7, 4, 16, 11]\t\tGeneration: 53\t\tFitness: 117\n",
      "Current best: [3, 12, 1, 13, 10, 5, 14, 8, 15, 6, 2, 9, 7, 4, 16, 11]\t\tGeneration: 54\t\tFitness: 117\n",
      "Current best: [3, 12, 1, 13, 10, 5, 14, 8, 15, 6, 2, 9, 7, 4, 16, 11]\t\tGeneration: 55\t\tFitness: 117\n",
      "Current best: [3, 12, 1, 13, 10, 5, 14, 8, 15, 6, 2, 9, 7, 4, 16, 11]\t\tGeneration: 56\t\tFitness: 117\n",
      "Current best: [3, 12, 1, 13, 10, 5, 14, 8, 15, 6, 2, 9, 7, 4, 16, 11]\t\tGeneration: 57\t\tFitness: 117\n",
      "Current best: [3, 12, 1, 13, 10, 5, 14, 8, 15, 6, 2, 9, 7, 4, 16, 11]\t\tGeneration: 58\t\tFitness: 117\n",
      "Current best: [3, 12, 1, 13, 10, 5, 14, 8, 15, 6, 2, 9, 7, 4, 16, 11]\t\tGeneration: 59\t\tFitness: 117\n",
      "Current best: [3, 12, 1, 13, 10, 5, 14, 8, 15, 6, 2, 9, 7, 4, 16, 11]\t\tGeneration: 60\t\tFitness: 117\n",
      "Current best: [3, 12, 1, 13, 10, 5, 14, 8, 15, 6, 2, 9, 7, 4, 16, 11]\t\tGeneration: 61\t\tFitness: 117\n",
      "Current best: [3, 12, 1, 13, 10, 5, 14, 8, 15, 6, 2, 9, 7, 4, 16, 11]\t\tGeneration: 62\t\tFitness: 117\n",
      "Current best: [3, 12, 1, 13, 10, 5, 14, 8, 15, 6, 2, 9, 7, 4, 16, 11]\t\tGeneration: 63\t\tFitness: 117\n",
      "Current best: [3, 12, 1, 13, 10, 5, 14, 8, 15, 6, 2, 9, 7, 4, 16, 11]\t\tGeneration: 64\t\tFitness: 117\n",
      "Current best: [3, 12, 1, 13, 10, 5, 14, 8, 15, 6, 2, 9, 7, 4, 16, 11]\t\tGeneration: 65\t\tFitness: 117\n",
      "Current best: [3, 12, 1, 13, 10, 5, 14, 8, 15, 6, 2, 9, 7, 4, 16, 11]\t\tGeneration: 66\t\tFitness: 117\n",
      "Current best: [3, 12, 1, 13, 10, 5, 14, 8, 15, 6, 2, 9, 7, 4, 16, 11]\t\tGeneration: 67\t\tFitness: 117\n",
      "Current best: [3, 12, 1, 13, 10, 5, 14, 8, 15, 6, 2, 9, 7, 4, 16, 11]\t\tGeneration: 68\t\tFitness: 117\n",
      "Current best: [3, 12, 1, 13, 10, 5, 14, 8, 15, 6, 2, 9, 7, 4, 16, 11]\t\tGeneration: 69\t\tFitness: 117\n",
      "Current best: [3, 12, 1, 13, 10, 5, 14, 8, 15, 6, 2, 9, 7, 4, 16, 11]\t\tGeneration: 70\t\tFitness: 117\n",
      "Current best: [3, 12, 1, 13, 10, 5, 14, 8, 15, 6, 2, 9, 7, 4, 16, 11]\t\tGeneration: 71\t\tFitness: 117\n",
      "Current best: [3, 12, 1, 13, 10, 5, 14, 8, 15, 6, 2, 9, 7, 4, 16, 11]\t\tGeneration: 72\t\tFitness: 117\n",
      "Current best: [3, 12, 1, 13, 10, 5, 14, 8, 15, 6, 2, 9, 7, 4, 16, 11]\t\tGeneration: 73\t\tFitness: 117\n",
      "Current best: [3, 12, 1, 13, 10, 5, 14, 8, 15, 6, 2, 9, 7, 4, 16, 11]\t\tGeneration: 74\t\tFitness: 117\n",
      "Current best: [3, 12, 1, 13, 10, 5, 14, 8, 15, 6, 2, 9, 7, 4, 16, 11]\t\tGeneration: 75\t\tFitness: 117\n",
      "Current best: [3, 12, 1, 13, 10, 5, 14, 8, 15, 6, 2, 9, 7, 4, 16, 11]\t\tGeneration: 76\t\tFitness: 117\n",
      "Current best: [3, 12, 1, 13, 10, 5, 14, 8, 15, 6, 2, 9, 7, 4, 16, 11]\t\tGeneration: 77\t\tFitness: 117\n",
      "Current best: [3, 12, 1, 13, 10, 5, 14, 8, 15, 6, 2, 9, 7, 4, 16, 11]\t\tGeneration: 78\t\tFitness: 117\n",
      "Current best: [3, 12, 1, 13, 10, 5, 14, 8, 15, 6, 2, 9, 7, 4, 16, 11]\t\tGeneration: 79\t\tFitness: 117\n",
      "Current best: [3, 12, 1, 13, 10, 5, 14, 8, 15, 6, 2, 9, 7, 4, 16, 11]\t\tGeneration: 80\t\tFitness: 117\n",
      "Current best: [3, 12, 1, 13, 10, 5, 14, 8, 15, 6, 2, 9, 7, 4, 16, 11]\t\tGeneration: 81\t\tFitness: 117\n",
      "Current best: [3, 12, 1, 13, 10, 5, 14, 8, 15, 6, 2, 9, 7, 4, 16, 11]\t\tGeneration: 82\t\tFitness: 117\n",
      "Current best: [3, 12, 1, 13, 10, 5, 14, 8, 15, 6, 2, 9, 7, 4, 16, 11]\t\tGeneration: 83\t\tFitness: 117\n",
      "Current best: [3, 12, 1, 13, 10, 5, 14, 8, 15, 6, 2, 9, 7, 4, 16, 11]\t\tGeneration: 84\t\tFitness: 117\n",
      "Current best: [3, 12, 1, 13, 10, 5, 14, 8, 15, 6, 2, 9, 7, 4, 16, 11]\t\tGeneration: 85\t\tFitness: 117\n",
      "Current best: [3, 12, 1, 13, 10, 5, 14, 8, 15, 6, 2, 9, 7, 4, 16, 11]\t\tGeneration: 86\t\tFitness: 117\n",
      "Current best: [3, 12, 1, 13, 10, 5, 14, 8, 15, 6, 2, 9, 7, 4, 16, 11]\t\tGeneration: 87\t\tFitness: 117\n",
      "Current best: [3, 12, 1, 13, 10, 5, 14, 8, 15, 6, 2, 9, 7, 4, 16, 11]\t\tGeneration: 88\t\tFitness: 117\n",
      "Current best: [3, 12, 1, 13, 10, 5, 14, 8, 15, 6, 2, 9, 7, 4, 16, 11]\t\tGeneration: 89\t\tFitness: 117\n",
      "Current best: [3, 12, 1, 13, 10, 5, 14, 8, 15, 6, 2, 9, 7, 4, 16, 11]\t\tGeneration: 90\t\tFitness: 117\n",
      "Current best: [3, 12, 1, 13, 10, 5, 14, 8, 15, 6, 2, 9, 7, 4, 16, 11]\t\tGeneration: 91\t\tFitness: 117\n",
      "Current best: [3, 12, 1, 13, 10, 5, 14, 8, 15, 6, 2, 9, 7, 4, 16, 11]\t\tGeneration: 92\t\tFitness: 117\n",
      "Current best: [3, 12, 1, 13, 10, 5, 14, 8, 15, 6, 2, 9, 7, 4, 16, 11]\t\tGeneration: 93\t\tFitness: 117\n",
      "Current best: [3, 12, 1, 13, 10, 5, 14, 8, 15, 6, 2, 9, 7, 4, 16, 11]\t\tGeneration: 94\t\tFitness: 117\n",
      "Current best: [3, 12, 1, 13, 10, 5, 14, 8, 15, 6, 2, 9, 7, 4, 16, 11]\t\tGeneration: 95\t\tFitness: 117\n",
      "Current best: [3, 12, 1, 13, 10, 5, 14, 8, 15, 6, 2, 9, 7, 4, 16, 11]\t\tGeneration: 96\t\tFitness: 117\n",
      "Current best: [3, 12, 1, 13, 10, 5, 14, 8, 15, 6, 2, 9, 7, 4, 16, 11]\t\tGeneration: 97\t\tFitness: 117\n",
      "Current best: [3, 12, 1, 13, 10, 5, 14, 8, 15, 6, 2, 9, 7, 4, 16, 11]\t\tGeneration: 98\t\tFitness: 117\n",
      "Current best: [3, 12, 1, 13, 10, 5, 14, 8, 15, 6, 2, 9, 7, 4, 16, 11]\t\tGeneration: 99\t\tFitness: 117\n",
      "[3, 12, 1, 13, 10, 5, 14, 8, 15, 6, 2, 9, 7, 4, 16, 11]\n"
     ]
    }
   ],
   "source": [
    "solution = genetic_algorithm_stepwise(population, fitness, gene_pool, ngen=100)\n",
    "print(solution)\n",
    "#print(fitness(solution))"
   ]
  },
  {
   "attachments": {},
   "cell_type": "markdown",
   "metadata": {},
   "source": [
    "Above you can see the solution and its fitness score, which should be no less than 25."
   ]
  },
  {
   "attachments": {},
   "cell_type": "markdown",
   "metadata": {},
   "source": [
    "This is where we conclude Genetic Algorithms."
   ]
  },
  {
   "attachments": {},
   "cell_type": "markdown",
   "metadata": {},
   "source": [
    "<br>\n",
    "This concludes the notebook.\n",
    "Hope you learned something new!"
   ]
  }
 ],
 "metadata": {
  "kernelspec": {
   "display_name": "Python 3 (ipykernel)",
   "language": "python",
   "name": "python3"
  },
  "language_info": {
   "codemirror_mode": {
    "name": "ipython",
    "version": 3
   },
   "file_extension": ".py",
   "mimetype": "text/x-python",
   "name": "python",
   "nbconvert_exporter": "python",
   "pygments_lexer": "ipython3",
   "version": "3.9.10"
  },
  "pycharm": {
   "stem_cell": {
    "cell_type": "raw",
    "metadata": {
     "collapsed": false
    },
    "source": []
   }
  },
  "widgets": {
   "state": {
    "1516e2501ddd4a2e8e3250bffc0164db": {
     "views": [
      {
       "cell_index": 59
      }
     ]
    },
    "17be64c89a9a4a43b3272cb018df0970": {
     "views": [
      {
       "cell_index": 59
      }
     ]
    },
    "ac05040009a340b0af81b0ee69161fbc": {
     "views": [
      {
       "cell_index": 59
      }
     ]
    },
    "d9735ffe77c24f13ae4ad3620ce84334": {
     "views": [
      {
       "cell_index": 59
      }
     ]
    }
   },
   "version": "1.2.0"
  }
 },
 "nbformat": 4,
 "nbformat_minor": 1
}
